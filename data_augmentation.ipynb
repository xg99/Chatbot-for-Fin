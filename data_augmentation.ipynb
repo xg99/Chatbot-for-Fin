{
 "cells": [
  {
   "cell_type": "markdown",
   "metadata": {},
   "source": [
    "# Banking dataset from PolyAI\n",
    "\n",
    "https://github.com/PolyAI-LDN/task-specific-datasets"
   ]
  },
  {
   "cell_type": "markdown",
   "metadata": {},
   "source": []
  },
  {
   "cell_type": "code",
   "execution_count": 3,
   "metadata": {},
   "outputs": [],
   "source": [
    "import pandas as pd\n",
    "import os\n",
    "import json\n",
    "import matplotlib.pyplot as plt\n",
    "import numpy as np"
   ]
  },
  {
   "cell_type": "code",
   "execution_count": 6,
   "metadata": {},
   "outputs": [
    {
     "data": {
      "text/plain": [
       "['card_arrival',\n",
       " 'card_linking',\n",
       " 'exchange_rate',\n",
       " 'card_payment_wrong_exchange_rate',\n",
       " 'extra_charge_on_statement',\n",
       " 'pending_cash_withdrawal',\n",
       " 'fiat_currency_support',\n",
       " 'card_delivery_estimate',\n",
       " 'automatic_top_up',\n",
       " 'card_not_working',\n",
       " 'exchange_via_app',\n",
       " 'lost_or_stolen_card',\n",
       " 'age_limit',\n",
       " 'pin_blocked',\n",
       " 'contactless_not_working',\n",
       " 'top_up_by_bank_transfer_charge',\n",
       " 'pending_top_up',\n",
       " 'cancel_transfer',\n",
       " 'top_up_limits',\n",
       " 'wrong_amount_of_cash_received',\n",
       " 'card_payment_fee_charged',\n",
       " 'transfer_not_received_by_recipient',\n",
       " 'supported_cards_and_currencies',\n",
       " 'getting_virtual_card',\n",
       " 'card_acceptance',\n",
       " 'top_up_reverted',\n",
       " 'balance_not_updated_after_cheque_or_cash_deposit',\n",
       " 'card_payment_not_recognised',\n",
       " 'edit_personal_details',\n",
       " 'why_verify_identity',\n",
       " 'unable_to_verify_identity',\n",
       " 'get_physical_card',\n",
       " 'visa_or_mastercard',\n",
       " 'topping_up_by_card',\n",
       " 'disposable_card_limits',\n",
       " 'compromised_card',\n",
       " 'atm_support',\n",
       " 'direct_debit_payment_not_recognised',\n",
       " 'passcode_forgotten',\n",
       " 'declined_cash_withdrawal',\n",
       " 'pending_card_payment',\n",
       " 'lost_or_stolen_phone',\n",
       " 'request_refund',\n",
       " 'declined_transfer',\n",
       " 'Refund_not_showing_up',\n",
       " 'declined_card_payment',\n",
       " 'pending_transfer',\n",
       " 'terminate_account',\n",
       " 'card_swallowed',\n",
       " 'transaction_charged_twice',\n",
       " 'verify_source_of_funds',\n",
       " 'transfer_timing',\n",
       " 'reverted_card_payment?',\n",
       " 'change_pin',\n",
       " 'beneficiary_not_allowed',\n",
       " 'transfer_fee_charged',\n",
       " 'receiving_money',\n",
       " 'failed_transfer',\n",
       " 'transfer_into_account',\n",
       " 'verify_top_up',\n",
       " 'getting_spare_card',\n",
       " 'top_up_by_cash_or_cheque',\n",
       " 'order_physical_card',\n",
       " 'virtual_card_not_working',\n",
       " 'wrong_exchange_rate_for_cash_withdrawal',\n",
       " 'get_disposable_virtual_card',\n",
       " 'top_up_failed',\n",
       " 'balance_not_updated_after_bank_transfer',\n",
       " 'cash_withdrawal_not_recognised',\n",
       " 'exchange_charge',\n",
       " 'top_up_by_card_charge',\n",
       " 'activate_my_card',\n",
       " 'cash_withdrawal_charge',\n",
       " 'card_about_to_expire',\n",
       " 'apple_pay_or_google_pay',\n",
       " 'verify_my_identity',\n",
       " 'country_support']"
      ]
     },
     "execution_count": 6,
     "metadata": {},
     "output_type": "execute_result"
    }
   ],
   "source": [
    "banking = open('./PolyAI/task-specific-datasets-master/banking_data/categories.json')\n",
    "json.load(banking)\n",
    "# print(banking)"
   ]
  },
  {
   "cell_type": "code",
   "execution_count": 44,
   "metadata": {},
   "outputs": [
    {
     "data": {
      "text/html": [
       "<div>\n",
       "<style scoped>\n",
       "    .dataframe tbody tr th:only-of-type {\n",
       "        vertical-align: middle;\n",
       "    }\n",
       "\n",
       "    .dataframe tbody tr th {\n",
       "        vertical-align: top;\n",
       "    }\n",
       "\n",
       "    .dataframe thead th {\n",
       "        text-align: right;\n",
       "    }\n",
       "</style>\n",
       "<table border=\"1\" class=\"dataframe\">\n",
       "  <thead>\n",
       "    <tr style=\"text-align: right;\">\n",
       "      <th></th>\n",
       "      <th>text</th>\n",
       "      <th>category</th>\n",
       "    </tr>\n",
       "  </thead>\n",
       "  <tbody>\n",
       "    <tr>\n",
       "      <th>1280</th>\n",
       "      <td>How do I fix my card if it is broken?</td>\n",
       "      <td>card_not_working</td>\n",
       "    </tr>\n",
       "    <tr>\n",
       "      <th>1281</th>\n",
       "      <td>Why doesn't my card work for any transactions?</td>\n",
       "      <td>card_not_working</td>\n",
       "    </tr>\n",
       "    <tr>\n",
       "      <th>1282</th>\n",
       "      <td>I tried using my card, but it doesn't work.</td>\n",
       "      <td>card_not_working</td>\n",
       "    </tr>\n",
       "    <tr>\n",
       "      <th>1283</th>\n",
       "      <td>My card hasn't been working for even small tra...</td>\n",
       "      <td>card_not_working</td>\n",
       "    </tr>\n",
       "    <tr>\n",
       "      <th>1284</th>\n",
       "      <td>What do I do if the machine rejects my card?</td>\n",
       "      <td>card_not_working</td>\n",
       "    </tr>\n",
       "    <tr>\n",
       "      <th>1285</th>\n",
       "      <td>Something's wrong my card won't work.</td>\n",
       "      <td>card_not_working</td>\n",
       "    </tr>\n",
       "    <tr>\n",
       "      <th>1286</th>\n",
       "      <td>I tried to use my card today in the restaurant...</td>\n",
       "      <td>card_not_working</td>\n",
       "    </tr>\n",
       "    <tr>\n",
       "      <th>1287</th>\n",
       "      <td>Suddenly, my card won't work.</td>\n",
       "      <td>card_not_working</td>\n",
       "    </tr>\n",
       "    <tr>\n",
       "      <th>1288</th>\n",
       "      <td>My card hasn't been working when I try to use it.</td>\n",
       "      <td>card_not_working</td>\n",
       "    </tr>\n",
       "    <tr>\n",
       "      <th>1289</th>\n",
       "      <td>My physical card is not working</td>\n",
       "      <td>card_not_working</td>\n",
       "    </tr>\n",
       "    <tr>\n",
       "      <th>1290</th>\n",
       "      <td>I can't seem to be able to use my card</td>\n",
       "      <td>card_not_working</td>\n",
       "    </tr>\n",
       "    <tr>\n",
       "      <th>1291</th>\n",
       "      <td>Why is my physical card not working?</td>\n",
       "      <td>card_not_working</td>\n",
       "    </tr>\n",
       "    <tr>\n",
       "      <th>1292</th>\n",
       "      <td>Help.  My card is broken.</td>\n",
       "      <td>card_not_working</td>\n",
       "    </tr>\n",
       "    <tr>\n",
       "      <th>1293</th>\n",
       "      <td>I am unable to use my card.</td>\n",
       "      <td>card_not_working</td>\n",
       "    </tr>\n",
       "    <tr>\n",
       "      <th>1294</th>\n",
       "      <td>No transactions are being accepted, what's wro...</td>\n",
       "      <td>card_not_working</td>\n",
       "    </tr>\n",
       "    <tr>\n",
       "      <th>1295</th>\n",
       "      <td>Is my card frozen?</td>\n",
       "      <td>card_not_working</td>\n",
       "    </tr>\n",
       "    <tr>\n",
       "      <th>1296</th>\n",
       "      <td>My card was declined at a restaurant today and...</td>\n",
       "      <td>card_not_working</td>\n",
       "    </tr>\n",
       "    <tr>\n",
       "      <th>1297</th>\n",
       "      <td>What do I do now that I can't use this card?</td>\n",
       "      <td>card_not_working</td>\n",
       "    </tr>\n",
       "    <tr>\n",
       "      <th>1298</th>\n",
       "      <td>My card doesn't seem to work anymore</td>\n",
       "      <td>card_not_working</td>\n",
       "    </tr>\n",
       "    <tr>\n",
       "      <th>1299</th>\n",
       "      <td>Out of the blue, my card stopped working.</td>\n",
       "      <td>card_not_working</td>\n",
       "    </tr>\n",
       "  </tbody>\n",
       "</table>\n",
       "</div>"
      ],
      "text/plain": [
       "                                                   text          category\n",
       "1280              How do I fix my card if it is broken?  card_not_working\n",
       "1281     Why doesn't my card work for any transactions?  card_not_working\n",
       "1282        I tried using my card, but it doesn't work.  card_not_working\n",
       "1283  My card hasn't been working for even small tra...  card_not_working\n",
       "1284       What do I do if the machine rejects my card?  card_not_working\n",
       "1285              Something's wrong my card won't work.  card_not_working\n",
       "1286  I tried to use my card today in the restaurant...  card_not_working\n",
       "1287                      Suddenly, my card won't work.  card_not_working\n",
       "1288  My card hasn't been working when I try to use it.  card_not_working\n",
       "1289                    My physical card is not working  card_not_working\n",
       "1290             I can't seem to be able to use my card  card_not_working\n",
       "1291               Why is my physical card not working?  card_not_working\n",
       "1292                          Help.  My card is broken.  card_not_working\n",
       "1293                        I am unable to use my card.  card_not_working\n",
       "1294  No transactions are being accepted, what's wro...  card_not_working\n",
       "1295                                 Is my card frozen?  card_not_working\n",
       "1296  My card was declined at a restaurant today and...  card_not_working\n",
       "1297       What do I do now that I can't use this card?  card_not_working\n",
       "1298               My card doesn't seem to work anymore  card_not_working\n",
       "1299          Out of the blue, my card stopped working.  card_not_working"
      ]
     },
     "execution_count": 44,
     "metadata": {},
     "output_type": "execute_result"
    }
   ],
   "source": [
    "bank_train = pd.read_csv('./PolyAI/task-specific-datasets-master/banking_data/train.csv')\n",
    "bank_train = bank_train.dropna()\n",
    "bank_train = bank_train.replace('\\n','', regex=True)\n",
    "bank_train[1280:1300]"
   ]
  },
  {
   "cell_type": "code",
   "execution_count": 45,
   "metadata": {},
   "outputs": [
    {
     "data": {
      "text/plain": [
       "card_payment_fee_charged                            187\n",
       "direct_debit_payment_not_recognised                 182\n",
       "balance_not_updated_after_cheque_or_cash_deposit    181\n",
       "wrong_amount_of_cash_received                       180\n",
       "cash_withdrawal_charge                              177\n",
       "                                                   ... \n",
       "lost_or_stolen_card                                  82\n",
       "card_swallowed                                       61\n",
       "card_acceptance                                      59\n",
       "virtual_card_not_working                             41\n",
       "contactless_not_working                              35\n",
       "Name: category, Length: 77, dtype: int64"
      ]
     },
     "execution_count": 45,
     "metadata": {},
     "output_type": "execute_result"
    }
   ],
   "source": [
    "bank_train.category.value_counts()"
   ]
  },
  {
   "cell_type": "code",
   "execution_count": 46,
   "metadata": {},
   "outputs": [
    {
     "data": {
      "image/png": "[encoded data removed]",
      "text/plain": [
       "<Figure size 1440x1296 with 1 Axes>"
      ]
     },
     "metadata": {
      "needs_background": "light"
     },
     "output_type": "display_data"
    }
   ],
   "source": [
    "import seaborn as sns\n",
    "plt.figure(figsize=(20,18))\n",
    "sns.countplot(y = bank_train.category, data = bank_train, )\n",
    "plt.title('PolyAI Banking training dataset')\n",
    "plt.savefig('banking_train_category.png')\n",
    "plt.show()"
   ]
  },
  {
   "cell_type": "markdown",
   "metadata": {},
   "source": [
    "## A simple Python implementation of ngram sunburst (nested pie chart) visualization showed in CoQA paper\n",
    "\n",
    "https://github.com/mrzjy/sunburst"
   ]
  },
  {
   "cell_type": "code",
   "execution_count": 20,
   "metadata": {},
   "outputs": [
    {
     "name": "stderr",
     "output_type": "stream",
     "text": [
      "2022-12-07 11:47:47,768 - INFO - constructing ngram Trie\n",
      "2022-12-07 11:47:53,717 - INFO - postprocessing\n",
      "2022-12-07 11:47:53,719 - INFO - \tpruning\n",
      "2022-12-07 11:47:53,760 - INFO - \tcolorizing\n"
     ]
    }
   ],
   "source": [
    "!python Analysis.py -read=example.txt"
   ]
  },
  {
   "cell_type": "code",
   "execution_count": 47,
   "metadata": {},
   "outputs": [],
   "source": [
    "with open('bank_train.txt', 'w') as f:\n",
    "    for line in bank_train.text.to_list():\n",
    "        f.write(f\"{line}\\n\")"
   ]
  },
  {
   "cell_type": "code",
   "execution_count": 72,
   "metadata": {},
   "outputs": [],
   "source": [
    "with open('bank_train_first_word.txt', 'w') as f:\n",
    "    for line in bank_train.text.to_list():\n",
    "        f.write(f\"{line.split(' ')[0]}\\n\")"
   ]
  },
  {
   "cell_type": "code",
   "execution_count": 64,
   "metadata": {},
   "outputs": [
    {
     "name": "stderr",
     "output_type": "stream",
     "text": [
      "2022-12-07 14:14:22,722 - INFO - constructing ngram Trie\n",
      "2022-12-07 14:14:25,477 - INFO - postprocessing\n",
      "2022-12-07 14:14:25,477 - INFO - \tpruning\n",
      "2022-12-07 14:14:25,492 - INFO - \tcolorizing\n"
     ]
    }
   ],
   "source": [
    "!python Analysis.py -read=bank_train.txt"
   ]
  },
  {
   "cell_type": "code",
   "execution_count": 75,
   "metadata": {},
   "outputs": [
    {
     "name": "stdout",
     "output_type": "stream",
     "text": [
      "<__main__.readlines_iterative object at 0x00000281A48FFB20>\n"
     ]
    },
    {
     "name": "stderr",
     "output_type": "stream",
     "text": [
      "2022-12-07 14:20:59,756 - INFO - constructing ngram Trie\n",
      "2022-12-07 14:20:59,762 - INFO - postprocessing\n",
      "2022-12-07 14:20:59,762 - INFO - \tpruning\n",
      "2022-12-07 14:20:59,762 - INFO - \tcolorizing\n"
     ]
    }
   ],
   "source": [
    "!python Analysis.py -read=bank_train_first_word.txt"
   ]
  },
  {
   "cell_type": "code",
   "execution_count": 78,
   "metadata": {},
   "outputs": [],
   "source": [
    "a = []\n",
    "for i in bank_train.text.to_list():\n",
    "    a.append(i.split(' ')[0])\n",
    "    # print(i[0])\n",
    "# a.count('my')"
   ]
  },
  {
   "cell_type": "code",
   "execution_count": 112,
   "metadata": {},
   "outputs": [
    {
     "data": {
      "text/plain": [
       "[('I', 2465),\n",
       " ('How', 966),\n",
       " ('Why', 817),\n",
       " ('What', 786),\n",
       " ('Can', 640),\n",
       " ('My', 594),\n",
       " ('Is', 372),\n",
       " ('The', 230),\n",
       " ('Where', 205),\n",
       " ('Do', 192),\n",
       " ('There', 161),\n",
       " ('When', 145),\n",
       " (\"I'm\", 128),\n",
       " ('Please', 121),\n",
       " ('Are', 114),\n",
       " ('Will', 101),\n",
       " ('how', 82),\n",
       " ('If', 81),\n",
       " ('i', 61),\n",
       " ('Hi,', 59)]"
      ]
     },
     "execution_count": 112,
     "metadata": {},
     "output_type": "execute_result"
    }
   ],
   "source": [
    "from collections import Counter\n",
    "first = Counter(a).most_common(20)\n",
    "first"
   ]
  },
  {
   "cell_type": "code",
   "execution_count": 116,
   "metadata": {},
   "outputs": [],
   "source": [
    "xx = [x[0] for x in first]\n",
    "yy = [x[1] for x in first]"
   ]
  },
  {
   "cell_type": "code",
   "execution_count": 123,
   "metadata": {},
   "outputs": [
    {
     "data": {
      "image/png": "[encoded data removed]",
      "text/plain": [
       "<Figure size 864x432 with 1 Axes>"
      ]
     },
     "metadata": {
      "needs_background": "light"
     },
     "output_type": "display_data"
    }
   ],
   "source": [
    "plt.figure(figsize=(12,6))\n",
    "plt.bar(xx, yy)\n",
    "plt.title('First word in banking dataset text')\n",
    "plt.savefig('first_word_num.png')"
   ]
  },
  {
   "cell_type": "markdown",
   "metadata": {},
   "source": [
    "# Style transfer"
   ]
  },
  {
   "cell_type": "code",
   "execution_count": 85,
   "metadata": {},
   "outputs": [],
   "source": [
    "from transformers import AutoTokenizer, AutoModelForSeq2SeqLM\n",
    "\n",
    "tokenizer = AutoTokenizer.from_pretrained(\"rajistics/informal_formal_style_transfer\")\n",
    "\n",
    "model = AutoModelForSeq2SeqLM.from_pretrained(\"rajistics/informal_formal_style_transfer\",)"
   ]
  },
  {
   "cell_type": "code",
   "execution_count": 89,
   "metadata": {},
   "outputs": [],
   "source": [
    "from transformers import pipeline\n",
    "\n",
    "classifier = pipeline(task = 'text2text-generation', model = model, tokenizer=tokenizer,  style = 1)\n"
   ]
  },
  {
   "cell_type": "code",
   "execution_count": 90,
   "metadata": {},
   "outputs": [],
   "source": [
    "source_sentences = [\n",
    "\"I would love to meet attractive men in town\",\n",
    "\"Please leave the room now\",\n",
    "\"It is a delicious icecream\",\n",
    "\"I am not paying this kind of money for that nonsense\",\n",
    "\"He is on cocaine and he cannot be trusted with this\",\n",
    "\"He is a very nice man and has a charming personality\",\n",
    "\"Let us go out for dinner\",\n",
    "\"We went to Barcelona for the weekend. We have a lot of things to tell you.\",\n",
    "] "
   ]
  },
  {
   "cell_type": "code",
   "execution_count": 91,
   "metadata": {},
   "outputs": [
    {
     "ename": "ValueError",
     "evalue": "The following `model_kwargs` are not used by the model: ['style'] (note: typos in the generate arguments will also show up in this list)",
     "output_type": "error",
     "traceback": [
      "\u001b[1;31m---------------------------------------------------------------------------\u001b[0m",
      "\u001b[1;31mValueError\u001b[0m                                Traceback (most recent call last)",
      "\u001b[1;32md:\\Chatbot\\data_augmentation.ipynb Cell 20'\u001b[0m in \u001b[0;36m<cell line: 1>\u001b[1;34m()\u001b[0m\n\u001b[1;32m----> <a href='vscode-notebook-cell:/d%3A/Chatbot/data_augmentation.ipynb#X33sZmlsZQ%3D%3D?line=0'>1</a>\u001b[0m classifier(source_sentences, truncation \u001b[39m=\u001b[39;49m \u001b[39mTrue\u001b[39;49;00m, )\n",
      "File \u001b[1;32mc:\\Users\\xinguan\\Anaconda3\\lib\\site-packages\\transformers\\pipelines\\text2text_generation.py:137\u001b[0m, in \u001b[0;36mText2TextGenerationPipeline.__call__\u001b[1;34m(self, *args, **kwargs)\u001b[0m\n\u001b[0;32m    <a href='file:///c%3A/Users/xinguan/Anaconda3/lib/site-packages/transformers/pipelines/text2text_generation.py?line=107'>108</a>\u001b[0m \u001b[39mdef\u001b[39;00m \u001b[39m__call__\u001b[39m(\u001b[39mself\u001b[39m, \u001b[39m*\u001b[39margs, \u001b[39m*\u001b[39m\u001b[39m*\u001b[39mkwargs):\n\u001b[0;32m    <a href='file:///c%3A/Users/xinguan/Anaconda3/lib/site-packages/transformers/pipelines/text2text_generation.py?line=108'>109</a>\u001b[0m     \u001b[39mr\u001b[39m\u001b[39m\"\"\"\u001b[39;00m\n\u001b[0;32m    <a href='file:///c%3A/Users/xinguan/Anaconda3/lib/site-packages/transformers/pipelines/text2text_generation.py?line=109'>110</a>\u001b[0m \u001b[39m    Generate the output text(s) using text(s) given as inputs.\u001b[39;00m\n\u001b[0;32m    <a href='file:///c%3A/Users/xinguan/Anaconda3/lib/site-packages/transformers/pipelines/text2text_generation.py?line=110'>111</a>\u001b[0m \n\u001b[1;32m   (...)\u001b[0m\n\u001b[0;32m    <a href='file:///c%3A/Users/xinguan/Anaconda3/lib/site-packages/transformers/pipelines/text2text_generation.py?line=133'>134</a>\u001b[0m \u001b[39m          ids of the generated text.\u001b[39;00m\n\u001b[0;32m    <a href='file:///c%3A/Users/xinguan/Anaconda3/lib/site-packages/transformers/pipelines/text2text_generation.py?line=134'>135</a>\u001b[0m \u001b[39m    \"\"\"\u001b[39;00m\n\u001b[1;32m--> <a href='file:///c%3A/Users/xinguan/Anaconda3/lib/site-packages/transformers/pipelines/text2text_generation.py?line=136'>137</a>\u001b[0m     result \u001b[39m=\u001b[39m \u001b[39msuper\u001b[39m()\u001b[39m.\u001b[39m\u001b[39m__call__\u001b[39m(\u001b[39m*\u001b[39margs, \u001b[39m*\u001b[39m\u001b[39m*\u001b[39mkwargs)\n\u001b[0;32m    <a href='file:///c%3A/Users/xinguan/Anaconda3/lib/site-packages/transformers/pipelines/text2text_generation.py?line=137'>138</a>\u001b[0m     \u001b[39mif\u001b[39;00m (\n\u001b[0;32m    <a href='file:///c%3A/Users/xinguan/Anaconda3/lib/site-packages/transformers/pipelines/text2text_generation.py?line=138'>139</a>\u001b[0m         \u001b[39misinstance\u001b[39m(args[\u001b[39m0\u001b[39m], \u001b[39mlist\u001b[39m)\n\u001b[0;32m    <a href='file:///c%3A/Users/xinguan/Anaconda3/lib/site-packages/transformers/pipelines/text2text_generation.py?line=139'>140</a>\u001b[0m         \u001b[39mand\u001b[39;00m \u001b[39mall\u001b[39m(\u001b[39misinstance\u001b[39m(el, \u001b[39mstr\u001b[39m) \u001b[39mfor\u001b[39;00m el \u001b[39min\u001b[39;00m args[\u001b[39m0\u001b[39m])\n\u001b[0;32m    <a href='file:///c%3A/Users/xinguan/Anaconda3/lib/site-packages/transformers/pipelines/text2text_generation.py?line=140'>141</a>\u001b[0m         \u001b[39mand\u001b[39;00m \u001b[39mall\u001b[39m(\u001b[39mlen\u001b[39m(res) \u001b[39m==\u001b[39m \u001b[39m1\u001b[39m \u001b[39mfor\u001b[39;00m res \u001b[39min\u001b[39;00m result)\n\u001b[0;32m    <a href='file:///c%3A/Users/xinguan/Anaconda3/lib/site-packages/transformers/pipelines/text2text_generation.py?line=141'>142</a>\u001b[0m     ):\n\u001b[0;32m    <a href='file:///c%3A/Users/xinguan/Anaconda3/lib/site-packages/transformers/pipelines/text2text_generation.py?line=142'>143</a>\u001b[0m         \u001b[39mreturn\u001b[39;00m [res[\u001b[39m0\u001b[39m] \u001b[39mfor\u001b[39;00m res \u001b[39min\u001b[39;00m result]\n",
      "File \u001b[1;32mc:\\Users\\xinguan\\Anaconda3\\lib\\site-packages\\transformers\\pipelines\\base.py:1063\u001b[0m, in \u001b[0;36mPipeline.__call__\u001b[1;34m(self, inputs, num_workers, batch_size, *args, **kwargs)\u001b[0m\n\u001b[0;32m   <a href='file:///c%3A/Users/xinguan/Anaconda3/lib/site-packages/transformers/pipelines/base.py?line=1058'>1059</a>\u001b[0m \u001b[39mif\u001b[39;00m can_use_iterator:\n\u001b[0;32m   <a href='file:///c%3A/Users/xinguan/Anaconda3/lib/site-packages/transformers/pipelines/base.py?line=1059'>1060</a>\u001b[0m     final_iterator \u001b[39m=\u001b[39m \u001b[39mself\u001b[39m\u001b[39m.\u001b[39mget_iterator(\n\u001b[0;32m   <a href='file:///c%3A/Users/xinguan/Anaconda3/lib/site-packages/transformers/pipelines/base.py?line=1060'>1061</a>\u001b[0m         inputs, num_workers, batch_size, preprocess_params, forward_params, postprocess_params\n\u001b[0;32m   <a href='file:///c%3A/Users/xinguan/Anaconda3/lib/site-packages/transformers/pipelines/base.py?line=1061'>1062</a>\u001b[0m     )\n\u001b[1;32m-> <a href='file:///c%3A/Users/xinguan/Anaconda3/lib/site-packages/transformers/pipelines/base.py?line=1062'>1063</a>\u001b[0m     outputs \u001b[39m=\u001b[39m [output \u001b[39mfor\u001b[39;00m output \u001b[39min\u001b[39;00m final_iterator]\n\u001b[0;32m   <a href='file:///c%3A/Users/xinguan/Anaconda3/lib/site-packages/transformers/pipelines/base.py?line=1063'>1064</a>\u001b[0m     \u001b[39mreturn\u001b[39;00m outputs\n\u001b[0;32m   <a href='file:///c%3A/Users/xinguan/Anaconda3/lib/site-packages/transformers/pipelines/base.py?line=1064'>1065</a>\u001b[0m \u001b[39melse\u001b[39;00m:\n",
      "File \u001b[1;32mc:\\Users\\xinguan\\Anaconda3\\lib\\site-packages\\transformers\\pipelines\\base.py:1063\u001b[0m, in \u001b[0;36m<listcomp>\u001b[1;34m(.0)\u001b[0m\n\u001b[0;32m   <a href='file:///c%3A/Users/xinguan/Anaconda3/lib/site-packages/transformers/pipelines/base.py?line=1058'>1059</a>\u001b[0m \u001b[39mif\u001b[39;00m can_use_iterator:\n\u001b[0;32m   <a href='file:///c%3A/Users/xinguan/Anaconda3/lib/site-packages/transformers/pipelines/base.py?line=1059'>1060</a>\u001b[0m     final_iterator \u001b[39m=\u001b[39m \u001b[39mself\u001b[39m\u001b[39m.\u001b[39mget_iterator(\n\u001b[0;32m   <a href='file:///c%3A/Users/xinguan/Anaconda3/lib/site-packages/transformers/pipelines/base.py?line=1060'>1061</a>\u001b[0m         inputs, num_workers, batch_size, preprocess_params, forward_params, postprocess_params\n\u001b[0;32m   <a href='file:///c%3A/Users/xinguan/Anaconda3/lib/site-packages/transformers/pipelines/base.py?line=1061'>1062</a>\u001b[0m     )\n\u001b[1;32m-> <a href='file:///c%3A/Users/xinguan/Anaconda3/lib/site-packages/transformers/pipelines/base.py?line=1062'>1063</a>\u001b[0m     outputs \u001b[39m=\u001b[39m [output \u001b[39mfor\u001b[39;00m output \u001b[39min\u001b[39;00m final_iterator]\n\u001b[0;32m   <a href='file:///c%3A/Users/xinguan/Anaconda3/lib/site-packages/transformers/pipelines/base.py?line=1063'>1064</a>\u001b[0m     \u001b[39mreturn\u001b[39;00m outputs\n\u001b[0;32m   <a href='file:///c%3A/Users/xinguan/Anaconda3/lib/site-packages/transformers/pipelines/base.py?line=1064'>1065</a>\u001b[0m \u001b[39melse\u001b[39;00m:\n",
      "File \u001b[1;32mc:\\Users\\xinguan\\Anaconda3\\lib\\site-packages\\transformers\\pipelines\\pt_utils.py:111\u001b[0m, in \u001b[0;36mPipelineIterator.__next__\u001b[1;34m(self)\u001b[0m\n\u001b[0;32m    <a href='file:///c%3A/Users/xinguan/Anaconda3/lib/site-packages/transformers/pipelines/pt_utils.py?line=107'>108</a>\u001b[0m     \u001b[39mreturn\u001b[39;00m \u001b[39mself\u001b[39m\u001b[39m.\u001b[39mloader_batch_item()\n\u001b[0;32m    <a href='file:///c%3A/Users/xinguan/Anaconda3/lib/site-packages/transformers/pipelines/pt_utils.py?line=109'>110</a>\u001b[0m \u001b[39m# We're out of items within a batch\u001b[39;00m\n\u001b[1;32m--> <a href='file:///c%3A/Users/xinguan/Anaconda3/lib/site-packages/transformers/pipelines/pt_utils.py?line=110'>111</a>\u001b[0m item \u001b[39m=\u001b[39m \u001b[39mnext\u001b[39;49m(\u001b[39mself\u001b[39;49m\u001b[39m.\u001b[39;49miterator)\n\u001b[0;32m    <a href='file:///c%3A/Users/xinguan/Anaconda3/lib/site-packages/transformers/pipelines/pt_utils.py?line=111'>112</a>\u001b[0m processed \u001b[39m=\u001b[39m \u001b[39mself\u001b[39m\u001b[39m.\u001b[39minfer(item, \u001b[39m*\u001b[39m\u001b[39m*\u001b[39m\u001b[39mself\u001b[39m\u001b[39m.\u001b[39mparams)\n\u001b[0;32m    <a href='file:///c%3A/Users/xinguan/Anaconda3/lib/site-packages/transformers/pipelines/pt_utils.py?line=112'>113</a>\u001b[0m \u001b[39m# We now have a batch of \"inferred things\".\u001b[39;00m\n",
      "File \u001b[1;32mc:\\Users\\xinguan\\Anaconda3\\lib\\site-packages\\transformers\\pipelines\\pt_utils.py:112\u001b[0m, in \u001b[0;36mPipelineIterator.__next__\u001b[1;34m(self)\u001b[0m\n\u001b[0;32m    <a href='file:///c%3A/Users/xinguan/Anaconda3/lib/site-packages/transformers/pipelines/pt_utils.py?line=109'>110</a>\u001b[0m \u001b[39m# We're out of items within a batch\u001b[39;00m\n\u001b[0;32m    <a href='file:///c%3A/Users/xinguan/Anaconda3/lib/site-packages/transformers/pipelines/pt_utils.py?line=110'>111</a>\u001b[0m item \u001b[39m=\u001b[39m \u001b[39mnext\u001b[39m(\u001b[39mself\u001b[39m\u001b[39m.\u001b[39miterator)\n\u001b[1;32m--> <a href='file:///c%3A/Users/xinguan/Anaconda3/lib/site-packages/transformers/pipelines/pt_utils.py?line=111'>112</a>\u001b[0m processed \u001b[39m=\u001b[39m \u001b[39mself\u001b[39m\u001b[39m.\u001b[39minfer(item, \u001b[39m*\u001b[39m\u001b[39m*\u001b[39m\u001b[39mself\u001b[39m\u001b[39m.\u001b[39mparams)\n\u001b[0;32m    <a href='file:///c%3A/Users/xinguan/Anaconda3/lib/site-packages/transformers/pipelines/pt_utils.py?line=112'>113</a>\u001b[0m \u001b[39m# We now have a batch of \"inferred things\".\u001b[39;00m\n\u001b[0;32m    <a href='file:///c%3A/Users/xinguan/Anaconda3/lib/site-packages/transformers/pipelines/pt_utils.py?line=113'>114</a>\u001b[0m \u001b[39mif\u001b[39;00m \u001b[39mself\u001b[39m\u001b[39m.\u001b[39mloader_batch_size \u001b[39mis\u001b[39;00m \u001b[39mnot\u001b[39;00m \u001b[39mNone\u001b[39;00m:\n\u001b[0;32m    <a href='file:///c%3A/Users/xinguan/Anaconda3/lib/site-packages/transformers/pipelines/pt_utils.py?line=114'>115</a>\u001b[0m     \u001b[39m# Try to infer the size of the batch\u001b[39;00m\n",
      "File \u001b[1;32mc:\\Users\\xinguan\\Anaconda3\\lib\\site-packages\\transformers\\pipelines\\base.py:990\u001b[0m, in \u001b[0;36mPipeline.forward\u001b[1;34m(self, model_inputs, **forward_params)\u001b[0m\n\u001b[0;32m    <a href='file:///c%3A/Users/xinguan/Anaconda3/lib/site-packages/transformers/pipelines/base.py?line=987'>988</a>\u001b[0m     \u001b[39mwith\u001b[39;00m inference_context():\n\u001b[0;32m    <a href='file:///c%3A/Users/xinguan/Anaconda3/lib/site-packages/transformers/pipelines/base.py?line=988'>989</a>\u001b[0m         model_inputs \u001b[39m=\u001b[39m \u001b[39mself\u001b[39m\u001b[39m.\u001b[39m_ensure_tensor_on_device(model_inputs, device\u001b[39m=\u001b[39m\u001b[39mself\u001b[39m\u001b[39m.\u001b[39mdevice)\n\u001b[1;32m--> <a href='file:///c%3A/Users/xinguan/Anaconda3/lib/site-packages/transformers/pipelines/base.py?line=989'>990</a>\u001b[0m         model_outputs \u001b[39m=\u001b[39m \u001b[39mself\u001b[39m\u001b[39m.\u001b[39m_forward(model_inputs, \u001b[39m*\u001b[39m\u001b[39m*\u001b[39mforward_params)\n\u001b[0;32m    <a href='file:///c%3A/Users/xinguan/Anaconda3/lib/site-packages/transformers/pipelines/base.py?line=990'>991</a>\u001b[0m         model_outputs \u001b[39m=\u001b[39m \u001b[39mself\u001b[39m\u001b[39m.\u001b[39m_ensure_tensor_on_device(model_outputs, device\u001b[39m=\u001b[39mtorch\u001b[39m.\u001b[39mdevice(\u001b[39m\"\u001b[39m\u001b[39mcpu\u001b[39m\u001b[39m\"\u001b[39m))\n\u001b[0;32m    <a href='file:///c%3A/Users/xinguan/Anaconda3/lib/site-packages/transformers/pipelines/base.py?line=991'>992</a>\u001b[0m \u001b[39melse\u001b[39;00m:\n",
      "File \u001b[1;32mc:\\Users\\xinguan\\Anaconda3\\lib\\site-packages\\transformers\\pipelines\\text2text_generation.py:159\u001b[0m, in \u001b[0;36mText2TextGenerationPipeline._forward\u001b[1;34m(self, model_inputs, **generate_kwargs)\u001b[0m\n\u001b[0;32m    <a href='file:///c%3A/Users/xinguan/Anaconda3/lib/site-packages/transformers/pipelines/text2text_generation.py?line=156'>157</a>\u001b[0m generate_kwargs[\u001b[39m\"\u001b[39m\u001b[39mmax_length\u001b[39m\u001b[39m\"\u001b[39m] \u001b[39m=\u001b[39m generate_kwargs\u001b[39m.\u001b[39mget(\u001b[39m\"\u001b[39m\u001b[39mmax_length\u001b[39m\u001b[39m\"\u001b[39m, \u001b[39mself\u001b[39m\u001b[39m.\u001b[39mmodel\u001b[39m.\u001b[39mconfig\u001b[39m.\u001b[39mmax_length)\n\u001b[0;32m    <a href='file:///c%3A/Users/xinguan/Anaconda3/lib/site-packages/transformers/pipelines/text2text_generation.py?line=157'>158</a>\u001b[0m \u001b[39mself\u001b[39m\u001b[39m.\u001b[39mcheck_inputs(input_length, generate_kwargs[\u001b[39m\"\u001b[39m\u001b[39mmin_length\u001b[39m\u001b[39m\"\u001b[39m], generate_kwargs[\u001b[39m\"\u001b[39m\u001b[39mmax_length\u001b[39m\u001b[39m\"\u001b[39m])\n\u001b[1;32m--> <a href='file:///c%3A/Users/xinguan/Anaconda3/lib/site-packages/transformers/pipelines/text2text_generation.py?line=158'>159</a>\u001b[0m output_ids \u001b[39m=\u001b[39m \u001b[39mself\u001b[39m\u001b[39m.\u001b[39mmodel\u001b[39m.\u001b[39mgenerate(\u001b[39m*\u001b[39m\u001b[39m*\u001b[39mmodel_inputs, \u001b[39m*\u001b[39m\u001b[39m*\u001b[39mgenerate_kwargs)\n\u001b[0;32m    <a href='file:///c%3A/Users/xinguan/Anaconda3/lib/site-packages/transformers/pipelines/text2text_generation.py?line=159'>160</a>\u001b[0m out_b \u001b[39m=\u001b[39m output_ids\u001b[39m.\u001b[39mshape[\u001b[39m0\u001b[39m]\n\u001b[0;32m    <a href='file:///c%3A/Users/xinguan/Anaconda3/lib/site-packages/transformers/pipelines/text2text_generation.py?line=160'>161</a>\u001b[0m \u001b[39mif\u001b[39;00m \u001b[39mself\u001b[39m\u001b[39m.\u001b[39mframework \u001b[39m==\u001b[39m \u001b[39m\"\u001b[39m\u001b[39mpt\u001b[39m\u001b[39m\"\u001b[39m:\n",
      "File \u001b[1;32mc:\\Users\\xinguan\\Anaconda3\\lib\\site-packages\\torch\\autograd\\grad_mode.py:27\u001b[0m, in \u001b[0;36m_DecoratorContextManager.__call__.<locals>.decorate_context\u001b[1;34m(*args, **kwargs)\u001b[0m\n\u001b[0;32m     <a href='file:///c%3A/Users/xinguan/Anaconda3/lib/site-packages/torch/autograd/grad_mode.py?line=23'>24</a>\u001b[0m \u001b[39m@functools\u001b[39m\u001b[39m.\u001b[39mwraps(func)\n\u001b[0;32m     <a href='file:///c%3A/Users/xinguan/Anaconda3/lib/site-packages/torch/autograd/grad_mode.py?line=24'>25</a>\u001b[0m \u001b[39mdef\u001b[39;00m \u001b[39mdecorate_context\u001b[39m(\u001b[39m*\u001b[39margs, \u001b[39m*\u001b[39m\u001b[39m*\u001b[39mkwargs):\n\u001b[0;32m     <a href='file:///c%3A/Users/xinguan/Anaconda3/lib/site-packages/torch/autograd/grad_mode.py?line=25'>26</a>\u001b[0m     \u001b[39mwith\u001b[39;00m \u001b[39mself\u001b[39m\u001b[39m.\u001b[39m\u001b[39m__class__\u001b[39m():\n\u001b[1;32m---> <a href='file:///c%3A/Users/xinguan/Anaconda3/lib/site-packages/torch/autograd/grad_mode.py?line=26'>27</a>\u001b[0m         \u001b[39mreturn\u001b[39;00m func(\u001b[39m*\u001b[39margs, \u001b[39m*\u001b[39m\u001b[39m*\u001b[39mkwargs)\n",
      "File \u001b[1;32mc:\\Users\\xinguan\\Anaconda3\\lib\\site-packages\\transformers\\generation_utils.py:1146\u001b[0m, in \u001b[0;36mGenerationMixin.generate\u001b[1;34m(self, inputs, max_length, min_length, do_sample, early_stopping, num_beams, temperature, top_k, top_p, typical_p, repetition_penalty, bad_words_ids, force_words_ids, bos_token_id, pad_token_id, eos_token_id, length_penalty, no_repeat_ngram_size, encoder_no_repeat_ngram_size, num_return_sequences, max_time, max_new_tokens, decoder_start_token_id, use_cache, num_beam_groups, diversity_penalty, prefix_allowed_tokens_fn, logits_processor, renormalize_logits, stopping_criteria, constraints, output_attentions, output_hidden_states, output_scores, return_dict_in_generate, forced_bos_token_id, forced_eos_token_id, remove_invalid_values, synced_gpus, exponential_decay_length_penalty, **model_kwargs)\u001b[0m\n\u001b[0;32m    <a href='file:///c%3A/Users/xinguan/Anaconda3/lib/site-packages/transformers/generation_utils.py?line=910'>911</a>\u001b[0m \u001b[39mr\u001b[39m\u001b[39m\"\"\"\u001b[39;00m\n\u001b[0;32m    <a href='file:///c%3A/Users/xinguan/Anaconda3/lib/site-packages/transformers/generation_utils.py?line=911'>912</a>\u001b[0m \n\u001b[0;32m    <a href='file:///c%3A/Users/xinguan/Anaconda3/lib/site-packages/transformers/generation_utils.py?line=912'>913</a>\u001b[0m \u001b[39mGenerates sequences of token ids for models with a language modeling head. The method supports the following\u001b[39;00m\n\u001b[1;32m   (...)\u001b[0m\n\u001b[0;32m   <a href='file:///c%3A/Users/xinguan/Anaconda3/lib/site-packages/transformers/generation_utils.py?line=1142'>1143</a>\u001b[0m \u001b[39m['Paris ist eines der dichtesten besiedelten Gebiete Europas.']\u001b[39;00m\n\u001b[0;32m   <a href='file:///c%3A/Users/xinguan/Anaconda3/lib/site-packages/transformers/generation_utils.py?line=1143'>1144</a>\u001b[0m \u001b[39m```\"\"\"\u001b[39;00m\n\u001b[0;32m   <a href='file:///c%3A/Users/xinguan/Anaconda3/lib/site-packages/transformers/generation_utils.py?line=1144'>1145</a>\u001b[0m \u001b[39m# 0. Validate model kwargs\u001b[39;00m\n\u001b[1;32m-> <a href='file:///c%3A/Users/xinguan/Anaconda3/lib/site-packages/transformers/generation_utils.py?line=1145'>1146</a>\u001b[0m \u001b[39mself\u001b[39;49m\u001b[39m.\u001b[39;49m_validate_model_kwargs(model_kwargs\u001b[39m.\u001b[39;49mcopy())\n\u001b[0;32m   <a href='file:///c%3A/Users/xinguan/Anaconda3/lib/site-packages/transformers/generation_utils.py?line=1147'>1148</a>\u001b[0m \u001b[39m# 1. Set generation parameters if not already defined\u001b[39;00m\n\u001b[0;32m   <a href='file:///c%3A/Users/xinguan/Anaconda3/lib/site-packages/transformers/generation_utils.py?line=1148'>1149</a>\u001b[0m bos_token_id \u001b[39m=\u001b[39m bos_token_id \u001b[39mif\u001b[39;00m bos_token_id \u001b[39mis\u001b[39;00m \u001b[39mnot\u001b[39;00m \u001b[39mNone\u001b[39;00m \u001b[39melse\u001b[39;00m \u001b[39mself\u001b[39m\u001b[39m.\u001b[39mconfig\u001b[39m.\u001b[39mbos_token_id\n",
      "File \u001b[1;32mc:\\Users\\xinguan\\Anaconda3\\lib\\site-packages\\transformers\\generation_utils.py:861\u001b[0m, in \u001b[0;36mGenerationMixin._validate_model_kwargs\u001b[1;34m(self, model_kwargs)\u001b[0m\n\u001b[0;32m    <a href='file:///c%3A/Users/xinguan/Anaconda3/lib/site-packages/transformers/generation_utils.py?line=857'>858</a>\u001b[0m         unused_model_args\u001b[39m.\u001b[39mappend(key)\n\u001b[0;32m    <a href='file:///c%3A/Users/xinguan/Anaconda3/lib/site-packages/transformers/generation_utils.py?line=859'>860</a>\u001b[0m \u001b[39mif\u001b[39;00m unused_model_args:\n\u001b[1;32m--> <a href='file:///c%3A/Users/xinguan/Anaconda3/lib/site-packages/transformers/generation_utils.py?line=860'>861</a>\u001b[0m     \u001b[39mraise\u001b[39;00m \u001b[39mValueError\u001b[39;00m(\n\u001b[0;32m    <a href='file:///c%3A/Users/xinguan/Anaconda3/lib/site-packages/transformers/generation_utils.py?line=861'>862</a>\u001b[0m         \u001b[39mf\u001b[39m\u001b[39m\"\u001b[39m\u001b[39mThe following `model_kwargs` are not used by the model: \u001b[39m\u001b[39m{\u001b[39;00munused_model_args\u001b[39m}\u001b[39;00m\u001b[39m (note: typos in the\u001b[39m\u001b[39m\"\u001b[39m\n\u001b[0;32m    <a href='file:///c%3A/Users/xinguan/Anaconda3/lib/site-packages/transformers/generation_utils.py?line=862'>863</a>\u001b[0m         \u001b[39m\"\u001b[39m\u001b[39m generate arguments will also show up in this list)\u001b[39m\u001b[39m\"\u001b[39m\n\u001b[0;32m    <a href='file:///c%3A/Users/xinguan/Anaconda3/lib/site-packages/transformers/generation_utils.py?line=863'>864</a>\u001b[0m     )\n",
      "\u001b[1;31mValueError\u001b[0m: The following `model_kwargs` are not used by the model: ['style'] (note: typos in the generate arguments will also show up in this list)"
     ]
    }
   ],
   "source": [
    "classifier(source_sentences, truncation = True, )"
   ]
  },
  {
   "cell_type": "code",
   "execution_count": 92,
   "metadata": {},
   "outputs": [
    {
     "name": "stdout",
     "output_type": "stream",
     "text": [
      "Collecting git+https://github.com/PrithivirajDamodaran/Styleformer.git\n",
      "  Cloning https://github.com/PrithivirajDamodaran/Styleformer.git to c:\\users\\xinguan\\appdata\\local\\temp\\pip-req-build-wa0o706t\n",
      "  Resolved https://github.com/PrithivirajDamodaran/Styleformer.git to commit 09d1a58c0169d1201081d05e1b97d197951af48d\n",
      "Requirement already satisfied: transformers in c:\\users\\xinguan\\anaconda3\\lib\\site-packages (from styleformer==0.1) (4.22.2)\n",
      "Requirement already satisfied: sentencepiece in c:\\users\\xinguan\\anaconda3\\lib\\site-packages (from styleformer==0.1) (0.1.97)\n",
      "Collecting python-Levenshtein\n",
      "  Downloading python_Levenshtein-0.20.8-py3-none-any.whl (9.4 kB)\n",
      "Collecting fuzzywuzzy\n",
      "  Downloading fuzzywuzzy-0.18.0-py2.py3-none-any.whl (18 kB)\n",
      "Collecting Levenshtein==0.20.8\n",
      "  Downloading Levenshtein-0.20.8-cp39-cp39-win_amd64.whl (100 kB)\n",
      "Collecting rapidfuzz<3.0.0,>=2.3.0\n",
      "  Downloading rapidfuzz-2.13.3-cp39-cp39-win_amd64.whl (1.0 MB)\n",
      "Requirement already satisfied: pyyaml>=5.1 in c:\\users\\xinguan\\anaconda3\\lib\\site-packages (from transformers->styleformer==0.1) (5.4.1)\n",
      "Requirement already satisfied: requests in c:\\users\\xinguan\\anaconda3\\lib\\site-packages (from transformers->styleformer==0.1) (2.28.1)\n",
      "Requirement already satisfied: regex!=2019.12.17 in c:\\users\\xinguan\\anaconda3\\lib\\site-packages (from transformers->styleformer==0.1) (2022.3.15)\n",
      "Requirement already satisfied: numpy>=1.17 in c:\\users\\xinguan\\anaconda3\\lib\\site-packages (from transformers->styleformer==0.1) (1.22.4)\n",
      "Requirement already satisfied: tqdm>=4.27 in c:\\users\\xinguan\\anaconda3\\lib\\site-packages (from transformers->styleformer==0.1) (4.64.0)\n",
      "Requirement already satisfied: huggingface-hub<1.0,>=0.9.0 in c:\\users\\xinguan\\anaconda3\\lib\\site-packages (from transformers->styleformer==0.1) (0.10.0)\n",
      "Requirement already satisfied: filelock in c:\\users\\xinguan\\anaconda3\\lib\\site-packages (from transformers->styleformer==0.1) (3.6.0)\n",
      "Requirement already satisfied: packaging>=20.0 in c:\\users\\xinguan\\anaconda3\\lib\\site-packages (from transformers->styleformer==0.1) (21.3)\n",
      "Requirement already satisfied: tokenizers!=0.11.3,<0.13,>=0.11.1 in c:\\users\\xinguan\\anaconda3\\lib\\site-packages (from transformers->styleformer==0.1) (0.12.1)\n",
      "Requirement already satisfied: typing-extensions>=3.7.4.3 in c:\\users\\xinguan\\anaconda3\\lib\\site-packages (from huggingface-hub<1.0,>=0.9.0->transformers->styleformer==0.1) (4.1.1)\n",
      "Requirement already satisfied: pyparsing!=3.0.5,>=2.0.2 in c:\\users\\xinguan\\anaconda3\\lib\\site-packages (from packaging>=20.0->transformers->styleformer==0.1) (3.0.4)\n",
      "Requirement already satisfied: colorama in c:\\users\\xinguan\\anaconda3\\lib\\site-packages (from tqdm>=4.27->transformers->styleformer==0.1) (0.4.4)\n",
      "Requirement already satisfied: urllib3<1.27,>=1.21.1 in c:\\users\\xinguan\\anaconda3\\lib\\site-packages (from requests->transformers->styleformer==0.1) (1.26.9)\n",
      "Requirement already satisfied: charset-normalizer<3,>=2 in c:\\users\\xinguan\\anaconda3\\lib\\site-packages (from requests->transformers->styleformer==0.1) (2.0.4)\n",
      "Requirement already satisfied: certifi>=2017.4.17 in c:\\users\\xinguan\\anaconda3\\lib\\site-packages (from requests->transformers->styleformer==0.1) (2021.10.8)\n",
      "Requirement already satisfied: idna<4,>=2.5 in c:\\users\\xinguan\\anaconda3\\lib\\site-packages (from requests->transformers->styleformer==0.1) (3.3)\n",
      "Building wheels for collected packages: styleformer\n",
      "  Building wheel for styleformer (setup.py): started\n",
      "  Building wheel for styleformer (setup.py): finished with status 'done'\n",
      "  Created wheel for styleformer: filename=styleformer-0.1-py3-none-any.whl size=8666 sha256=763392675b94baaa79a86c48bbe51cbc74a50ccb7cf049f86b686a155c9f36bd\n",
      "  Stored in directory: C:\\Users\\xinguan\\AppData\\Local\\Temp\\pip-ephem-wheel-cache-5iy71li5\\wheels\\fe\\f5\\14\\7978e21e6f72e65207457cddb09bd32bba117965d5ba6d0098\n",
      "Successfully built styleformer\n",
      "Installing collected packages: rapidfuzz, Levenshtein, python-Levenshtein, fuzzywuzzy, styleformer\n",
      "Successfully installed Levenshtein-0.20.8 fuzzywuzzy-0.18.0 python-Levenshtein-0.20.8 rapidfuzz-2.13.3 styleformer-0.1\n"
     ]
    },
    {
     "name": "stderr",
     "output_type": "stream",
     "text": [
      "  Running command git clone -q https://github.com/PrithivirajDamodaran/Styleformer.git 'C:\\Users\\xinguan\\AppData\\Local\\Temp\\pip-req-build-wa0o706t'\n"
     ]
    }
   ],
   "source": [
    "!pip install git+https://github.com/PrithivirajDamodaran/Styleformer.git"
   ]
  },
  {
   "cell_type": "code",
   "execution_count": 93,
   "metadata": {},
   "outputs": [
    {
     "name": "stdout",
     "output_type": "stream",
     "text": [
      "Requirement already satisfied: styleformer in c:\\users\\xinguan\\anaconda3\\lib\\site-packages (0.1)\n",
      "Requirement already satisfied: fuzzywuzzy in c:\\users\\xinguan\\anaconda3\\lib\\site-packages (from styleformer) (0.18.0)\n",
      "Requirement already satisfied: sentencepiece in c:\\users\\xinguan\\anaconda3\\lib\\site-packages (from styleformer) (0.1.97)\n",
      "Requirement already satisfied: python-Levenshtein in c:\\users\\xinguan\\anaconda3\\lib\\site-packages (from styleformer) (0.20.8)\n",
      "Requirement already satisfied: transformers in c:\\users\\xinguan\\anaconda3\\lib\\site-packages (from styleformer) (4.22.2)\n",
      "Requirement already satisfied: Levenshtein==0.20.8 in c:\\users\\xinguan\\anaconda3\\lib\\site-packages (from python-Levenshtein->styleformer) (0.20.8)\n",
      "Requirement already satisfied: rapidfuzz<3.0.0,>=2.3.0 in c:\\users\\xinguan\\anaconda3\\lib\\site-packages (from Levenshtein==0.20.8->python-Levenshtein->styleformer) (2.13.3)\n",
      "Requirement already satisfied: packaging>=20.0 in c:\\users\\xinguan\\anaconda3\\lib\\site-packages (from transformers->styleformer) (21.3)\n",
      "Requirement already satisfied: tqdm>=4.27 in c:\\users\\xinguan\\anaconda3\\lib\\site-packages (from transformers->styleformer) (4.64.0)\n",
      "Requirement already satisfied: numpy>=1.17 in c:\\users\\xinguan\\anaconda3\\lib\\site-packages (from transformers->styleformer) (1.22.4)\n",
      "Requirement already satisfied: requests in c:\\users\\xinguan\\anaconda3\\lib\\site-packages (from transformers->styleformer) (2.28.1)\n",
      "Requirement already satisfied: filelock in c:\\users\\xinguan\\anaconda3\\lib\\site-packages (from transformers->styleformer) (3.6.0)\n",
      "Requirement already satisfied: pyyaml>=5.1 in c:\\users\\xinguan\\anaconda3\\lib\\site-packages (from transformers->styleformer) (5.4.1)\n",
      "Requirement already satisfied: tokenizers!=0.11.3,<0.13,>=0.11.1 in c:\\users\\xinguan\\anaconda3\\lib\\site-packages (from transformers->styleformer) (0.12.1)\n",
      "Requirement already satisfied: huggingface-hub<1.0,>=0.9.0 in c:\\users\\xinguan\\anaconda3\\lib\\site-packages (from transformers->styleformer) (0.10.0)\n",
      "Requirement already satisfied: regex!=2019.12.17 in c:\\users\\xinguan\\anaconda3\\lib\\site-packages (from transformers->styleformer) (2022.3.15)\n",
      "Requirement already satisfied: typing-extensions>=3.7.4.3 in c:\\users\\xinguan\\anaconda3\\lib\\site-packages (from huggingface-hub<1.0,>=0.9.0->transformers->styleformer) (4.1.1)\n",
      "Requirement already satisfied: pyparsing!=3.0.5,>=2.0.2 in c:\\users\\xinguan\\anaconda3\\lib\\site-packages (from packaging>=20.0->transformers->styleformer) (3.0.4)\n",
      "Requirement already satisfied: colorama in c:\\users\\xinguan\\anaconda3\\lib\\site-packages (from tqdm>=4.27->transformers->styleformer) (0.4.4)\n",
      "Requirement already satisfied: charset-normalizer<3,>=2 in c:\\users\\xinguan\\anaconda3\\lib\\site-packages (from requests->transformers->styleformer) (2.0.4)\n",
      "Requirement already satisfied: idna<4,>=2.5 in c:\\users\\xinguan\\anaconda3\\lib\\site-packages (from requests->transformers->styleformer) (3.3)\n",
      "Requirement already satisfied: urllib3<1.27,>=1.21.1 in c:\\users\\xinguan\\anaconda3\\lib\\site-packages (from requests->transformers->styleformer) (1.26.9)\n",
      "Requirement already satisfied: certifi>=2017.4.17 in c:\\users\\xinguan\\anaconda3\\lib\\site-packages (from requests->transformers->styleformer) (2021.10.8)\n"
     ]
    }
   ],
   "source": [
    "!pip install styleformer"
   ]
  },
  {
   "cell_type": "code",
   "execution_count": 94,
   "metadata": {},
   "outputs": [
    {
     "data": {
      "application/vnd.jupyter.widget-view+json": {
       "model_id": "25388395e2f04410bc6d1a530859a913",
       "version_major": 2,
       "version_minor": 0
      },
      "text/plain": [
       "Downloading:   0%|          | 0.00/913 [00:00<?, ?B/s]"
      ]
     },
     "metadata": {},
     "output_type": "display_data"
    },
    {
     "data": {
      "application/vnd.jupyter.widget-view+json": {
       "model_id": "f71b8fa2e7274d88994d1d754ace37c8",
       "version_major": 2,
       "version_minor": 0
      },
      "text/plain": [
       "Downloading:   0%|          | 0.00/1.42G [00:00<?, ?B/s]"
      ]
     },
     "metadata": {},
     "output_type": "display_data"
    },
    {
     "data": {
      "application/vnd.jupyter.widget-view+json": {
       "model_id": "a37cd7d95b894eecbafd2a7b1020f848",
       "version_major": 2,
       "version_minor": 0
      },
      "text/plain": [
       "Downloading:   0%|          | 0.00/899k [00:00<?, ?B/s]"
      ]
     },
     "metadata": {},
     "output_type": "display_data"
    },
    {
     "data": {
      "application/vnd.jupyter.widget-view+json": {
       "model_id": "c700204d43a4478ab0381897edda10da",
       "version_major": 2,
       "version_minor": 0
      },
      "text/plain": [
       "Downloading:   0%|          | 0.00/456k [00:00<?, ?B/s]"
      ]
     },
     "metadata": {},
     "output_type": "display_data"
    },
    {
     "data": {
      "application/vnd.jupyter.widget-view+json": {
       "model_id": "4c08ce1015d84221a54fe1e0c2c060ba",
       "version_major": 2,
       "version_minor": 0
      },
      "text/plain": [
       "Downloading:   0%|          | 0.00/1.36M [00:00<?, ?B/s]"
      ]
     },
     "metadata": {},
     "output_type": "display_data"
    },
    {
     "data": {
      "application/vnd.jupyter.widget-view+json": {
       "model_id": "a1aa7077d8484cc387ff8576a933a378",
       "version_major": 2,
       "version_minor": 0
      },
      "text/plain": [
       "Downloading:   0%|          | 0.00/772 [00:00<?, ?B/s]"
      ]
     },
     "metadata": {},
     "output_type": "display_data"
    },
    {
     "data": {
      "application/vnd.jupyter.widget-view+json": {
       "model_id": "8cc7db261dea4591a5837664a4031f5b",
       "version_major": 2,
       "version_minor": 0
      },
      "text/plain": [
       "Downloading:   0%|          | 0.00/1.89k [00:00<?, ?B/s]"
      ]
     },
     "metadata": {},
     "output_type": "display_data"
    },
    {
     "data": {
      "application/vnd.jupyter.widget-view+json": {
       "model_id": "1c0b765319c54585b23c4286a63774ad",
       "version_major": 2,
       "version_minor": 0
      },
      "text/plain": [
       "Downloading:   0%|          | 0.00/1.39k [00:00<?, ?B/s]"
      ]
     },
     "metadata": {},
     "output_type": "display_data"
    },
    {
     "data": {
      "application/vnd.jupyter.widget-view+json": {
       "model_id": "b1470566eca74923b102a720f7e231c9",
       "version_major": 2,
       "version_minor": 0
      },
      "text/plain": [
       "Downloading:   0%|          | 0.00/792k [00:00<?, ?B/s]"
      ]
     },
     "metadata": {},
     "output_type": "display_data"
    },
    {
     "data": {
      "application/vnd.jupyter.widget-view+json": {
       "model_id": "80c5aaa72fcc4ba694c5036244791289",
       "version_major": 2,
       "version_minor": 0
      },
      "text/plain": [
       "Downloading:   0%|          | 0.00/1.39M [00:00<?, ?B/s]"
      ]
     },
     "metadata": {},
     "output_type": "display_data"
    },
    {
     "data": {
      "application/vnd.jupyter.widget-view+json": {
       "model_id": "02895ef496bf4a91a54ce391aa74564e",
       "version_major": 2,
       "version_minor": 0
      },
      "text/plain": [
       "Downloading:   0%|          | 0.00/1.79k [00:00<?, ?B/s]"
      ]
     },
     "metadata": {},
     "output_type": "display_data"
    },
    {
     "data": {
      "application/vnd.jupyter.widget-view+json": {
       "model_id": "95f93f88d7d9477cb13961ed1db2a826",
       "version_major": 2,
       "version_minor": 0
      },
      "text/plain": [
       "Downloading:   0%|          | 0.00/892M [00:00<?, ?B/s]"
      ]
     },
     "metadata": {},
     "output_type": "display_data"
    },
    {
     "name": "stdout",
     "output_type": "stream",
     "text": [
      "Formal to Casual model loaded...\n",
      "[Formal]  I would love to meet attractive men in town\n",
      "[Casual]  I'd love to meet sexy guys in town\n",
      "----------------------------------------------------------------------------------------------------\n",
      "[Formal]  Please leave the room now\n",
      "[Casual]  Now... get out of the room\n",
      "----------------------------------------------------------------------------------------------------\n",
      "[Formal]  It is a delicious icecream\n",
      "[Casual]  It is delicious icecream\n",
      "----------------------------------------------------------------------------------------------------\n",
      "[Formal]  I am not paying this kind of money for that nonsense\n",
      "[Casual]  I'm not paying this kind of money for that nonsense\n",
      "----------------------------------------------------------------------------------------------------\n",
      "[Formal]  He is on cocaine and he cannot be trusted with this\n",
      "[Casual]  he's on coke and can't be trusted with this.\n",
      "----------------------------------------------------------------------------------------------------\n",
      "[Formal]  He is a very nice man and has a charming personality\n",
      "No good quality transfers available !\n",
      "----------------------------------------------------------------------------------------------------\n",
      "[Formal]  Let us go out for dinner\n",
      "[Casual]  Go out for dinner, ya know\n",
      "----------------------------------------------------------------------------------------------------\n",
      "[Formal]  We went to Barcelona for the weekend. We have a lot of things to tell you.\n",
      "[Casual]  We went to Barcelona on the weekend and we have alot to tell you.\n",
      "----------------------------------------------------------------------------------------------------\n"
     ]
    }
   ],
   "source": [
    "from styleformer import Styleformer\n",
    "import warnings\n",
    "warnings.filterwarnings(\"ignore\")\n",
    "\n",
    "# style = [0=Casual to Formal, 1=Formal to Casual, 2=Active to Passive, 3=Passive to Active etc..]\n",
    "sf = Styleformer(style = 1) \n",
    "import torch\n",
    "def set_seed(seed):\n",
    "  torch.manual_seed(seed)\n",
    "  if torch.cuda.is_available():\n",
    "    torch.cuda.manual_seed_all(seed)\n",
    "\n",
    "set_seed(1212)\n",
    "\n",
    "source_sentences = [\n",
    "\"I would love to meet attractive men in town\",\n",
    "\"Please leave the room now\",\n",
    "\"It is a delicious icecream\",\n",
    "\"I am not paying this kind of money for that nonsense\",\n",
    "\"He is on cocaine and he cannot be trusted with this\",\n",
    "\"He is a very nice man and has a charming personality\",\n",
    "\"Let us go out for dinner\",\n",
    "\"We went to Barcelona for the weekend. We have a lot of things to tell you.\",\n",
    "]   \n",
    "\n",
    "for source_sentence in source_sentences:\n",
    "    # inference_on = [-1=Regular model On CPU, 0-998= Regular model On GPU, 999=Quantized model On CPU]\n",
    "    target_sentence = sf.transfer(source_sentence, inference_on=-1, quality_filter=0.95, max_candidates=5)\n",
    "    print(\"[Formal] \", source_sentence)\n",
    "    if target_sentence is not None:\n",
    "        print(\"[Casual] \",target_sentence)\n",
    "    else:\n",
    "        print(\"No good quality transfers available !\")\n",
    "    print(\"-\" *100)        "
   ]
  },
  {
   "cell_type": "code",
   "execution_count": 99,
   "metadata": {},
   "outputs": [
    {
     "name": "stdout",
     "output_type": "stream",
     "text": [
      "[Formal]  On the card that is coming, what's the tracking info?\n",
      "[Casual]  on the card that is coming, what is the tracking info?\n",
      "----------------------------------------------------------------------------------------------------\n",
      "[Formal]  What is the status of my card's delivery?\n",
      "No good quality transfers available !\n",
      "----------------------------------------------------------------------------------------------------\n",
      "[Formal]  Have you sent out my card yet?\n",
      "[Casual]  have you yet to send my card out?\n",
      "----------------------------------------------------------------------------------------------------\n",
      "[Formal]  My card isn't here yet.\n",
      "[Casual]  my card is not here yet.\n",
      "----------------------------------------------------------------------------------------------------\n",
      "[Formal]  where is my new card?\n",
      "[Casual]  Where's my new card?\n",
      "----------------------------------------------------------------------------------------------------\n",
      "[Formal]  It's been a week since you sent my card and I still don't have it.\n",
      "[Casual]  it's been a week since you sent my card and I still don't have it.\n",
      "----------------------------------------------------------------------------------------------------\n",
      "[Formal]  How do I track the card you sent me?\n",
      "[Casual]  how can I track the card that you sent me?\n",
      "----------------------------------------------------------------------------------------------------\n",
      "[Formal]  When will I recieve my new card?\n",
      "No good quality transfers available !\n",
      "----------------------------------------------------------------------------------------------------\n",
      "[Formal]  When will I get my new card?\n",
      "[Casual]  When will I get my new card?\n",
      "----------------------------------------------------------------------------------------------------\n",
      "[Formal]  What is the expected delivery date for my card?\n",
      "[Casual]  what is expected delivery date for my card?\n",
      "----------------------------------------------------------------------------------------------------\n"
     ]
    }
   ],
   "source": [
    "bank_train_1 = bank_train.text.to_list()\n",
    "\n",
    "for source_sentence in bank_train_1[20:30]:\n",
    "    # inference_on = [-1=Regular model On CPU, 0-998= Regular model On GPU, 999=Quantized model On CPU]\n",
    "    target_sentence = sf.transfer(source_sentence, inference_on=-1, quality_filter=0.95, max_candidates=5)\n",
    "    print(\"[Formal] \", source_sentence)\n",
    "    if target_sentence is not None:\n",
    "        print(\"[Casual] \",target_sentence)\n",
    "    else:\n",
    "        print(\"No good quality transfers available !\")\n",
    "    print(\"-\" *100)        "
   ]
  },
  {
   "cell_type": "code",
   "execution_count": 97,
   "metadata": {},
   "outputs": [
    {
     "name": "stdout",
     "output_type": "stream",
     "text": [
      "[Formal]  Does the package with my card have tracking?\n",
      "[Casual]  Does the package with my card have tracking?\n",
      "----------------------------------------------------------------------------------------------------\n"
     ]
    }
   ],
   "source": [
    "bank_train_2 = ['Does the package with my card have tracking?']\n",
    "\n",
    "for source_sentence in bank_train_2:\n",
    "    # inference_on = [-1=Regular model On CPU, 0-998= Regular model On GPU, 999=Quantized model On CPU]\n",
    "    target_sentence = sf.transfer(source_sentence, inference_on=-1, quality_filter=0.95, max_candidates=5)\n",
    "    print(\"[Formal] \", source_sentence)\n",
    "    if target_sentence is not None:\n",
    "        print(\"[Casual] \",target_sentence)\n",
    "    else:\n",
    "        print(\"No good quality transfers available !\")\n",
    "    print(\"-\" *100)  "
   ]
  },
  {
   "cell_type": "code",
   "execution_count": 125,
   "metadata": {},
   "outputs": [
    {
     "name": "stdout",
     "output_type": "stream",
     "text": [
      "[Formal]  I'm learning a lot about NLP here, but I'm not learning fast enough to keep up with the project, especially as it's moving towards commercialisation. This has caused me some stress and a lot of physical discomfort. I plan to go home for a period of rest and recuperation during the Chinese New Year. I've also been thinking a lot about applying for a PhD during this time in company and I think I may not have as strong a love for academia as I expected. I have also talked to current and graduated PhDs in my company and the pace of research is not to my liking. Thank you, teacher, for giving me the opportunity to try and make mistakes. This learning experience in the company was invaluable.In the last remaining month, I will assist Yanlin with the production of synthetic training data and trying to use Expected Value of Perfect Information theory and reverse engineering to build the framework of chatbot evaluation.\n",
      "[Casual]  I am learning about NLP here, but I'm not learning fast enough to keep pace with the project, especially as it's moving towards commercial\n",
      "----------------------------------------------------------------------------------------------------\n"
     ]
    }
   ],
   "source": [
    "# style = [0=Casual to Formal, 1=Formal to Casual, 2=Active to Passive, 3=Passive to Active etc..]\n",
    "# sf = Styleformer(style = 0) \n",
    "# import torch\n",
    "# def set_seed(seed):\n",
    "#   torch.manual_seed(seed)\n",
    "#   if torch.cuda.is_available():\n",
    "#     torch.cuda.manual_seed_all(seed)\n",
    "\n",
    "# set_seed(1212)\n",
    "\n",
    "source_sentences = [\"I'm learning a lot about NLP here, but I'm not learning fast enough to keep up with the project, especially as it's moving towards commercialisation. This has caused me some stress and a lot of physical discomfort. I plan to go home for a period of rest and recuperation during the Chinese New Year. I've also been thinking a lot about applying for a PhD during this time in company and I think I may not have as strong a love for academia as I expected. I have also talked to current and graduated PhDs in my company and the pace of research is not to my liking. Thank you, teacher, for giving me the opportunity to try and make mistakes. This learning experience in the company was invaluable.In the last remaining month, I will assist Yanlin with the production of synthetic training data and trying to use Expected Value of Perfect Information theory and reverse engineering to build the framework of chatbot evaluation.\"]  \n",
    "\n",
    "for source_sentence in source_sentences:\n",
    "    # inference_on = [-1=Regular model On CPU, 0-998= Regular model On GPU, 999=Quantized model On CPU]\n",
    "    target_sentence = sf.transfer(source_sentence, inference_on=-1, quality_filter=0.95, max_candidates=5)\n",
    "    print(\"[Formal] \", source_sentence)\n",
    "    if target_sentence is not None:\n",
    "        print(\"[Casual] \",target_sentence)\n",
    "    else:\n",
    "        print(\"No good quality transfers available !\")\n",
    "    print(\"-\" *100)        \n",
    "# letter = [\"I'm learning a lot about nlp here, but I'm not learning fast enough to keep up with the project, especially as it's moving towards commercialisation\"]"
   ]
  },
  {
   "cell_type": "markdown",
   "metadata": {},
   "source": [
    "# Google people also asked"
   ]
  },
  {
   "cell_type": "code",
   "execution_count": 133,
   "metadata": {},
   "outputs": [
    {
     "name": "stdout",
     "output_type": "stream",
     "text": [
      "div Google\n",
      "span G\n",
      "span o\n",
      "span o\n",
      "span g\n",
      "span l\n",
      "span e\n",
      "div ×\n",
      "div ×\n",
      "div ×\n",
      "div ×\n",
      "div \n",
      "div 若您在數秒內仍未能自動跳轉，請點擊這裏。\n",
      "div 全部圖片地圖新聞 影片 購物 書籍 搜尋工具    不限語言不限語言搜尋所有中文網頁搜尋繁體中文網頁不限時間不限時間 過去 1 小時 過去 24 小時 過去 1 週 過去 1 個月 過去 1 年所有結果所有結果一字不差目前顯示的是以下字詞的搜尋結果： hang seng bank I am still waiting on my card?您可以改回搜尋： hengseng bank I am still waiting on my card?Hang Seng Credit Card Customer Service Hotlineswww.hangseng.com › en-hk › personal › cards › hotlineFor credit card enquiries, please contact our customer service representative at 24-hour Credit Card Customer Service Hotline 2998 8222.缺少字詞：  am waitingFaster Payment System (FPS) - Hang Seng Bankwww.hangseng.com › en-hk › personal › banking › fpsFPS lets you pay bills, transfer between local banks for free by simply using your phone number, email address or FPS ID. You can also register with your ...[PDF] Hang Seng alpha card Spending Card Benefits Directorywww.hangseng.com › dam › hase › config › personal › cards › pdfsOnline enquiry on alpha card transaction details, account balance, monthly statement balance, Cash Dollars balance and special promotion and offers. • Check the ...缺少字詞：  waiting | 必須包含以下字詞：waitingOnline Bill Payment Service FAQ - Hang Seng Credit Cardwww.hangseng.com › en-hk › personal › cards › faqHang Seng Online Bill Payment Service let you make your settlement of bills easier and more flexible. Just need to log on Hang Seng Personal e-Banking to ...缺少字詞：  am | 必須包含以下字詞：amFrequently Asked Questione-banking2.hangseng.com › faq › transfers-local-transferI am expecting to receive a payment to my Hang Seng Account and have been waiting for longer than 24 hours, what should I do? In general ...其他人也問了以下問題How do I activate my Hang Seng Bank Card?What is the minimum annual income requirement for a credit card issued by Hang Seng Bank?Does Hang Seng have debit card?How do I cancel my Hang Seng credit card?FAQ - Hang Seng Banking Serviceswww.hangseng.com › banking-services › useful-informationIf my account reactivation request submitted via e-Banking was rejected, will my subsequent request at the branch be affected?缺少字詞：  waiting | 必須包含以下字詞：waitingFrequently Asked Question - Hang Seng Banke-banking2.hangseng.com › other-related-services-account-opening-upgradeUsing Hang Seng e-Banking Services - Account Services - Other Related Services - Account Opening / ... How many accounts can I link to my new ATM card?Credit Card Services - Hang Seng Bankwww.hangseng.com › en-hk › personal › cardsHang Seng credit card services provide various types of credit card products, including credit cards with no annual fee fitting your needs.缺少字詞：  waiting | 必須包含以下字詞：waitingTransaction Enquiry - Frequently Asked Question - Hang Seng Banke-banking2.hangseng.com › p-p-payment › bill-payment-transaction-enquiryUsing Hang Seng e-Banking Services - P.P Payment Platform - Bill Payment ... What will be the case for using credit card account for pending payment?缺少字詞：  am | 必須包含以下字詞：amOnline Banking Help - HSBC HKwww.hsbc.com.hk › digital › online-banking-faqFind the answers to the most frequently asked questions about HSBC online banking and get all ... My Personal Internet Banking registration was rejected.相關搜尋Hang Seng BankHang Seng Bank Credit CardHang Seng ATM Cardhang seng bank credit card優惠Hang Seng Bank hr Contacthang seng信用卡熱線Hang Seng bank cs hotlineHSBC ATM Card  下一頁 >  沙田區根據你的 IP 位址 - 瞭解詳情登入設定私隱權政策條款\n",
      "div 全部圖片地圖新聞 影片 購物 書籍 搜尋工具    不限語言不限語言搜尋所有中文網頁搜尋繁體中文網頁不限時間不限時間 過去 1 小時 過去 24 小時 過去 1 週 過去 1 個月 過去 1 年所有結果所有結果一字不差\n",
      "div 全部圖片地圖新聞 影片 購物 書籍 搜尋工具\n",
      "div 全部圖片地圖新聞 影片 購物 書籍 搜尋工具\n",
      "div 全部圖片地圖新聞 影片 購物 書籍 搜尋工具\n",
      "div 全部圖片地圖新聞 影片 購物 書籍 搜尋工具\n",
      "span 全部\n",
      "div 搜尋工具\n",
      "div 不限語言不限語言搜尋所有中文網頁搜尋繁體中文網頁不限時間不限時間 過去 1 小時 過去 24 小時 過去 1 週 過去 1 個月 過去 1 年所有結果所有結果一字不差\n",
      "div 不限語言不限語言搜尋所有中文網頁搜尋繁體中文網頁不限時間不限時間 過去 1 小時 過去 24 小時 過去 1 週 過去 1 個月 過去 1 年所有結果所有結果一字不差\n",
      "div 不限語言不限語言搜尋所有中文網頁搜尋繁體中文網頁不限時間不限時間 過去 1 小時 過去 24 小時 過去 1 週 過去 1 個月 過去 1 年所有結果所有結果一字不差\n",
      "div 不限語言不限語言搜尋所有中文網頁搜尋繁體中文網頁不限時間不限時間 過去 1 小時 過去 24 小時 過去 1 週 過去 1 個月 過去 1 年所有結果所有結果一字不差\n",
      "div 不限語言不限語言搜尋所有中文網頁搜尋繁體中文網頁\n",
      "div 不限語言\n",
      "div 不限語言\n",
      "span \n",
      "div 不限時間不限時間 過去 1 小時 過去 24 小時 過去 1 週 過去 1 個月 過去 1 年\n",
      "div 不限時間\n",
      "div 不限時間\n",
      "span \n",
      "div 所有結果所有結果一字不差\n",
      "div 所有結果\n",
      "div 所有結果\n",
      "span \n",
      "div \n",
      "div \n",
      "div 目前顯示的是以下字詞的搜尋結果： hang seng bank I am still waiting on my card?您可以改回搜尋： hengseng bank I am still waiting on my card?\n",
      "div 目前顯示的是以下字詞的搜尋結果： hang seng bank I am still waiting on my card?您可以改回搜尋： hengseng bank I am still waiting on my card?\n",
      "div 目前顯示的是以下字詞的搜尋結果： hang seng bank I am still waiting on my card?\n",
      "span hang seng bank I am still waiting on my card?\n",
      "div 您可以改回搜尋： hengseng bank I am still waiting on my card?\n",
      "div Hang Seng Credit Card Customer Service Hotlineswww.hangseng.com › en-hk › personal › cards › hotlineFor credit card enquiries, please contact our customer service representative at 24-hour Credit Card Customer Service Hotline 2998 8222.缺少字詞：  am waiting\n",
      "div Hang Seng Credit Card Customer Service Hotlineswww.hangseng.com › en-hk › personal › cards › hotlineFor credit card enquiries, please contact our customer service representative at 24-hour Credit Card Customer Service Hotline 2998 8222.缺少字詞：  am waiting\n",
      "div Hang Seng Credit Card Customer Service Hotlineswww.hangseng.com › en-hk › personal › cards › hotline\n",
      "div Hang Seng Credit Card Customer Service Hotlineswww.hangseng.com › en-hk › personal › cards › hotline\n",
      "div Hang Seng Credit Card Customer Service Hotlines\n",
      "div Hang Seng Credit Card Customer Service Hotlines\n",
      "div www.hangseng.com › en-hk › personal › cards › hotline\n",
      "div www.hangseng.com › en-hk › personal › cards › hotline\n",
      "div For credit card enquiries, please contact our customer service representative at 24-hour Credit Card Customer Service Hotline 2998 8222.缺少字詞：  am waiting\n",
      "div For credit card enquiries, please contact our customer service representative at 24-hour Credit Card Customer Service Hotline 2998 8222.缺少字詞：  am waiting\n",
      "div For credit card enquiries, please contact our customer service representative at 24-hour Credit Card Customer Service Hotline 2998 8222.缺少字詞：  am waiting\n",
      "div For credit card enquiries, please contact our customer service representative at 24-hour Credit Card Customer Service Hotline 2998 8222.缺少字詞：  am waiting\n",
      "div For credit card enquiries, please contact our customer service representative at 24-hour Credit Card Customer Service Hotline 2998 8222.\n",
      "div For credit card enquiries, please contact our customer service representative at 24-hour Credit Card Customer Service Hotline 2998 8222.\n",
      "div 缺少字詞：  am waiting\n",
      "div 缺少字詞：  am waiting\n",
      "span am\n",
      "span waiting\n",
      "div Faster Payment System (FPS) - Hang Seng Bankwww.hangseng.com › en-hk › personal › banking › fpsFPS lets you pay bills, transfer between local banks for free by simply using your phone number, email address or FPS ID. You can also register with your ...\n",
      "div Faster Payment System (FPS) - Hang Seng Bankwww.hangseng.com › en-hk › personal › banking › fpsFPS lets you pay bills, transfer between local banks for free by simply using your phone number, email address or FPS ID. You can also register with your ...\n",
      "div Faster Payment System (FPS) - Hang Seng Bankwww.hangseng.com › en-hk › personal › banking › fps\n",
      "div Faster Payment System (FPS) - Hang Seng Bankwww.hangseng.com › en-hk › personal › banking › fps\n",
      "div Faster Payment System (FPS) - Hang Seng Bank\n",
      "div Faster Payment System (FPS) - Hang Seng Bank\n",
      "div www.hangseng.com › en-hk › personal › banking › fps\n",
      "div www.hangseng.com › en-hk › personal › banking › fps\n",
      "div FPS lets you pay bills, transfer between local banks for free by simply using your phone number, email address or FPS ID. You can also register with your ...\n",
      "div FPS lets you pay bills, transfer between local banks for free by simply using your phone number, email address or FPS ID. You can also register with your ...\n",
      "div FPS lets you pay bills, transfer between local banks for free by simply using your phone number, email address or FPS ID. You can also register with your ...\n",
      "div FPS lets you pay bills, transfer between local banks for free by simply using your phone number, email address or FPS ID. You can also register with your ...\n",
      "div FPS lets you pay bills, transfer between local banks for free by simply using your phone number, email address or FPS ID. You can also register with your ...\n",
      "div FPS lets you pay bills, transfer between local banks for free by simply using your phone number, email address or FPS ID. You can also register with your ...\n",
      "div [PDF] Hang Seng alpha card Spending Card Benefits Directorywww.hangseng.com › dam › hase › config › personal › cards › pdfsOnline enquiry on alpha card transaction details, account balance, monthly statement balance, Cash Dollars balance and special promotion and offers. • Check the ...缺少字詞：  waiting | 必須包含以下字詞：waiting\n",
      "div [PDF] Hang Seng alpha card Spending Card Benefits Directorywww.hangseng.com › dam › hase › config › personal › cards › pdfsOnline enquiry on alpha card transaction details, account balance, monthly statement balance, Cash Dollars balance and special promotion and offers. • Check the ...缺少字詞：  waiting | 必須包含以下字詞：waiting\n",
      "div [PDF] Hang Seng alpha card Spending Card Benefits Directorywww.hangseng.com › dam › hase › config › personal › cards › pdfs\n",
      "div [PDF] Hang Seng alpha card Spending Card Benefits Directorywww.hangseng.com › dam › hase › config › personal › cards › pdfs\n",
      "div [PDF] Hang Seng alpha card Spending Card Benefits Directory\n",
      "div [PDF] Hang Seng alpha card Spending Card Benefits Directory\n",
      "div www.hangseng.com › dam › hase › config › personal › cards › pdfs\n",
      "div www.hangseng.com › dam › hase › config › personal › cards › pdfs\n",
      "div Online enquiry on alpha card transaction details, account balance, monthly statement balance, Cash Dollars balance and special promotion and offers. • Check the ...缺少字詞：  waiting | 必須包含以下字詞：waiting\n",
      "div Online enquiry on alpha card transaction details, account balance, monthly statement balance, Cash Dollars balance and special promotion and offers. • Check the ...缺少字詞：  waiting | 必須包含以下字詞：waiting\n",
      "div Online enquiry on alpha card transaction details, account balance, monthly statement balance, Cash Dollars balance and special promotion and offers. • Check the ...缺少字詞：  waiting | 必須包含以下字詞：waiting\n",
      "div Online enquiry on alpha card transaction details, account balance, monthly statement balance, Cash Dollars balance and special promotion and offers. • Check the ...缺少字詞：  waiting | 必須包含以下字詞：waiting\n",
      "div Online enquiry on alpha card transaction details, account balance, monthly statement balance, Cash Dollars balance and special promotion and offers. • Check the ...\n",
      "div Online enquiry on alpha card transaction details, account balance, monthly statement balance, Cash Dollars balance and special promotion and offers. • Check the ...\n",
      "div 缺少字詞：  waiting | 必須包含以下字詞：waiting\n",
      "div 缺少字詞：  waiting | 必須包含以下字詞：waiting\n",
      "span waiting\n",
      "span waiting\n",
      "span waiting\n",
      "div Online Bill Payment Service FAQ - Hang Seng Credit Cardwww.hangseng.com › en-hk › personal › cards › faqHang Seng Online Bill Payment Service let you make your settlement of bills easier and more flexible. Just need to log on Hang Seng Personal e-Banking to ...缺少字詞：  am | 必須包含以下字詞：am\n",
      "div Online Bill Payment Service FAQ - Hang Seng Credit Cardwww.hangseng.com › en-hk › personal › cards › faqHang Seng Online Bill Payment Service let you make your settlement of bills easier and more flexible. Just need to log on Hang Seng Personal e-Banking to ...缺少字詞：  am | 必須包含以下字詞：am\n",
      "div Online Bill Payment Service FAQ - Hang Seng Credit Cardwww.hangseng.com › en-hk › personal › cards › faq\n",
      "div Online Bill Payment Service FAQ - Hang Seng Credit Cardwww.hangseng.com › en-hk › personal › cards › faq\n",
      "div Online Bill Payment Service FAQ - Hang Seng Credit Card\n",
      "div Online Bill Payment Service FAQ - Hang Seng Credit Card\n",
      "div www.hangseng.com › en-hk › personal › cards › faq\n",
      "div www.hangseng.com › en-hk › personal › cards › faq\n",
      "div Hang Seng Online Bill Payment Service let you make your settlement of bills easier and more flexible. Just need to log on Hang Seng Personal e-Banking to ...缺少字詞：  am | 必須包含以下字詞：am\n",
      "div Hang Seng Online Bill Payment Service let you make your settlement of bills easier and more flexible. Just need to log on Hang Seng Personal e-Banking to ...缺少字詞：  am | 必須包含以下字詞：am\n",
      "div Hang Seng Online Bill Payment Service let you make your settlement of bills easier and more flexible. Just need to log on Hang Seng Personal e-Banking to ...缺少字詞：  am | 必須包含以下字詞：am\n",
      "div Hang Seng Online Bill Payment Service let you make your settlement of bills easier and more flexible. Just need to log on Hang Seng Personal e-Banking to ...缺少字詞：  am | 必須包含以下字詞：am\n",
      "div Hang Seng Online Bill Payment Service let you make your settlement of bills easier and more flexible. Just need to log on Hang Seng Personal e-Banking to ...\n",
      "div Hang Seng Online Bill Payment Service let you make your settlement of bills easier and more flexible. Just need to log on Hang Seng Personal e-Banking to ...\n",
      "div 缺少字詞：  am | 必須包含以下字詞：am\n",
      "div 缺少字詞：  am | 必須包含以下字詞：am\n",
      "span am\n",
      "span am\n",
      "span am\n",
      "div Frequently Asked Questione-banking2.hangseng.com › faq › transfers-local-transferI am expecting to receive a payment to my Hang Seng Account and have been waiting for longer than 24 hours, what should I do? In general ...\n",
      "div Frequently Asked Questione-banking2.hangseng.com › faq › transfers-local-transferI am expecting to receive a payment to my Hang Seng Account and have been waiting for longer than 24 hours, what should I do? In general ...\n",
      "div Frequently Asked Questione-banking2.hangseng.com › faq › transfers-local-transfer\n",
      "div Frequently Asked Questione-banking2.hangseng.com › faq › transfers-local-transfer\n",
      "div Frequently Asked Question\n",
      "div Frequently Asked Question\n",
      "div e-banking2.hangseng.com › faq › transfers-local-transfer\n",
      "div e-banking2.hangseng.com › faq › transfers-local-transfer\n",
      "div I am expecting to receive a payment to my Hang Seng Account and have been waiting for longer than 24 hours, what should I do? In general ...\n",
      "div I am expecting to receive a payment to my Hang Seng Account and have been waiting for longer than 24 hours, what should I do? In general ...\n",
      "div I am expecting to receive a payment to my Hang Seng Account and have been waiting for longer than 24 hours, what should I do? In general ...\n",
      "div I am expecting to receive a payment to my Hang Seng Account and have been waiting for longer than 24 hours, what should I do? In general ...\n",
      "div I am expecting to receive a payment to my Hang Seng Account and have been waiting for longer than 24 hours, what should I do? In general ...\n",
      "div I am expecting to receive a payment to my Hang Seng Account and have been waiting for longer than 24 hours, what should I do? In general ...\n",
      "div 其他人也問了以下問題How do I activate my Hang Seng Bank Card?What is the minimum annual income requirement for a credit card issued by Hang Seng Bank?Does Hang Seng have debit card?How do I cancel my Hang Seng credit card?\n",
      "div 其他人也問了以下問題How do I activate my Hang Seng Bank Card?What is the minimum annual income requirement for a credit card issued by Hang Seng Bank?Does Hang Seng have debit card?How do I cancel my Hang Seng credit card?\n",
      "div 其他人也問了以下問題\n",
      "div 其他人也問了以下問題\n",
      "span 其他人也問了以下問題\n",
      "div 其他人也問了以下問題\n",
      "span 其他人也問了以下問題\n",
      "div \n",
      "div How do I activate my Hang Seng Bank Card?\n",
      "div How do I activate my Hang Seng Bank Card?\n",
      "div How do I activate my Hang Seng Bank Card?\n",
      "div How do I activate my Hang Seng Bank Card?\n",
      "div How do I activate my Hang Seng Bank Card?\n",
      "div \n",
      "div \n",
      "div \n",
      "div \n",
      "div \n",
      "div \n",
      "div \n",
      "div What is the minimum annual income requirement for a credit card issued by Hang Seng Bank?\n",
      "div What is the minimum annual income requirement for a credit card issued by Hang Seng Bank?\n",
      "div What is the minimum annual income requirement for a credit card issued by Hang Seng Bank?\n",
      "div What is the minimum annual income requirement for a credit card issued by Hang Seng Bank?\n",
      "div What is the minimum annual income requirement for a credit card issued by Hang Seng Bank?\n",
      "div \n",
      "div \n",
      "div \n",
      "div \n",
      "div \n",
      "div \n",
      "div \n",
      "div Does Hang Seng have debit card?\n",
      "div Does Hang Seng have debit card?\n",
      "div Does Hang Seng have debit card?\n",
      "div Does Hang Seng have debit card?\n",
      "div Does Hang Seng have debit card?\n",
      "div \n",
      "div \n",
      "div \n",
      "div \n",
      "div \n",
      "div \n",
      "div \n",
      "div How do I cancel my Hang Seng credit card?\n",
      "div How do I cancel my Hang Seng credit card?\n",
      "div How do I cancel my Hang Seng credit card?\n",
      "div How do I cancel my Hang Seng credit card?\n",
      "div How do I cancel my Hang Seng credit card?\n",
      "div \n",
      "div \n",
      "div \n",
      "div \n",
      "div \n",
      "div \n",
      "div FAQ - Hang Seng Banking Serviceswww.hangseng.com › banking-services › useful-informationIf my account reactivation request submitted via e-Banking was rejected, will my subsequent request at the branch be affected?缺少字詞：  waiting | 必須包含以下字詞：waiting\n",
      "div FAQ - Hang Seng Banking Serviceswww.hangseng.com › banking-services › useful-informationIf my account reactivation request submitted via e-Banking was rejected, will my subsequent request at the branch be affected?缺少字詞：  waiting | 必須包含以下字詞：waiting\n",
      "div FAQ - Hang Seng Banking Serviceswww.hangseng.com › banking-services › useful-information\n",
      "div FAQ - Hang Seng Banking Serviceswww.hangseng.com › banking-services › useful-information\n",
      "div FAQ - Hang Seng Banking Services\n",
      "div FAQ - Hang Seng Banking Services\n",
      "div www.hangseng.com › banking-services › useful-information\n",
      "div www.hangseng.com › banking-services › useful-information\n",
      "div If my account reactivation request submitted via e-Banking was rejected, will my subsequent request at the branch be affected?缺少字詞：  waiting | 必須包含以下字詞：waiting\n",
      "div If my account reactivation request submitted via e-Banking was rejected, will my subsequent request at the branch be affected?缺少字詞：  waiting | 必須包含以下字詞：waiting\n",
      "div If my account reactivation request submitted via e-Banking was rejected, will my subsequent request at the branch be affected?缺少字詞：  waiting | 必須包含以下字詞：waiting\n",
      "div If my account reactivation request submitted via e-Banking was rejected, will my subsequent request at the branch be affected?缺少字詞：  waiting | 必須包含以下字詞：waiting\n",
      "div If my account reactivation request submitted via e-Banking was rejected, will my subsequent request at the branch be affected?\n",
      "div If my account reactivation request submitted via e-Banking was rejected, will my subsequent request at the branch be affected?\n",
      "div 缺少字詞：  waiting | 必須包含以下字詞：waiting\n",
      "div 缺少字詞：  waiting | 必須包含以下字詞：waiting\n",
      "span waiting\n",
      "span waiting\n",
      "span waiting\n",
      "div Frequently Asked Question - Hang Seng Banke-banking2.hangseng.com › other-related-services-account-opening-upgradeUsing Hang Seng e-Banking Services - Account Services - Other Related Services - Account Opening / ... How many accounts can I link to my new ATM card?\n",
      "div Frequently Asked Question - Hang Seng Banke-banking2.hangseng.com › other-related-services-account-opening-upgradeUsing Hang Seng e-Banking Services - Account Services - Other Related Services - Account Opening / ... How many accounts can I link to my new ATM card?\n",
      "div Frequently Asked Question - Hang Seng Banke-banking2.hangseng.com › other-related-services-account-opening-upgrade\n",
      "div Frequently Asked Question - Hang Seng Banke-banking2.hangseng.com › other-related-services-account-opening-upgrade\n",
      "div Frequently Asked Question - Hang Seng Bank\n",
      "div Frequently Asked Question - Hang Seng Bank\n",
      "div e-banking2.hangseng.com › other-related-services-account-opening-upgrade\n",
      "div e-banking2.hangseng.com › other-related-services-account-opening-upgrade\n",
      "div Using Hang Seng e-Banking Services - Account Services - Other Related Services - Account Opening / ... How many accounts can I link to my new ATM card?\n",
      "div Using Hang Seng e-Banking Services - Account Services - Other Related Services - Account Opening / ... How many accounts can I link to my new ATM card?\n",
      "div Using Hang Seng e-Banking Services - Account Services - Other Related Services - Account Opening / ... How many accounts can I link to my new ATM card?\n",
      "div Using Hang Seng e-Banking Services - Account Services - Other Related Services - Account Opening / ... How many accounts can I link to my new ATM card?\n",
      "div Using Hang Seng e-Banking Services - Account Services - Other Related Services - Account Opening / ... How many accounts can I link to my new ATM card?\n",
      "div Using Hang Seng e-Banking Services - Account Services - Other Related Services - Account Opening / ... How many accounts can I link to my new ATM card?\n",
      "div Credit Card Services - Hang Seng Bankwww.hangseng.com › en-hk › personal › cardsHang Seng credit card services provide various types of credit card products, including credit cards with no annual fee fitting your needs.缺少字詞：  waiting | 必須包含以下字詞：waiting\n",
      "div Credit Card Services - Hang Seng Bankwww.hangseng.com › en-hk › personal › cardsHang Seng credit card services provide various types of credit card products, including credit cards with no annual fee fitting your needs.缺少字詞：  waiting | 必須包含以下字詞：waiting\n",
      "div Credit Card Services - Hang Seng Bankwww.hangseng.com › en-hk › personal › cards\n",
      "div Credit Card Services - Hang Seng Bankwww.hangseng.com › en-hk › personal › cards\n",
      "div Credit Card Services - Hang Seng Bank\n",
      "div Credit Card Services - Hang Seng Bank\n",
      "div www.hangseng.com › en-hk › personal › cards\n",
      "div www.hangseng.com › en-hk › personal › cards\n",
      "div Hang Seng credit card services provide various types of credit card products, including credit cards with no annual fee fitting your needs.缺少字詞：  waiting | 必須包含以下字詞：waiting\n",
      "div Hang Seng credit card services provide various types of credit card products, including credit cards with no annual fee fitting your needs.缺少字詞：  waiting | 必須包含以下字詞：waiting\n",
      "div Hang Seng credit card services provide various types of credit card products, including credit cards with no annual fee fitting your needs.缺少字詞：  waiting | 必須包含以下字詞：waiting\n",
      "div Hang Seng credit card services provide various types of credit card products, including credit cards with no annual fee fitting your needs.缺少字詞：  waiting | 必須包含以下字詞：waiting\n",
      "div Hang Seng credit card services provide various types of credit card products, including credit cards with no annual fee fitting your needs.\n",
      "div Hang Seng credit card services provide various types of credit card products, including credit cards with no annual fee fitting your needs.\n",
      "div 缺少字詞：  waiting | 必須包含以下字詞：waiting\n",
      "div 缺少字詞：  waiting | 必須包含以下字詞：waiting\n",
      "span waiting\n",
      "span waiting\n",
      "span waiting\n",
      "div Transaction Enquiry - Frequently Asked Question - Hang Seng Banke-banking2.hangseng.com › p-p-payment › bill-payment-transaction-enquiryUsing Hang Seng e-Banking Services - P.P Payment Platform - Bill Payment ... What will be the case for using credit card account for pending payment?缺少字詞：  am | 必須包含以下字詞：am\n",
      "div Transaction Enquiry - Frequently Asked Question - Hang Seng Banke-banking2.hangseng.com › p-p-payment › bill-payment-transaction-enquiryUsing Hang Seng e-Banking Services - P.P Payment Platform - Bill Payment ... What will be the case for using credit card account for pending payment?缺少字詞：  am | 必須包含以下字詞：am\n",
      "div Transaction Enquiry - Frequently Asked Question - Hang Seng Banke-banking2.hangseng.com › p-p-payment › bill-payment-transaction-enquiry\n",
      "div Transaction Enquiry - Frequently Asked Question - Hang Seng Banke-banking2.hangseng.com › p-p-payment › bill-payment-transaction-enquiry\n",
      "div Transaction Enquiry - Frequently Asked Question - Hang Seng Bank\n",
      "div Transaction Enquiry - Frequently Asked Question - Hang Seng Bank\n",
      "div e-banking2.hangseng.com › p-p-payment › bill-payment-transaction-enquiry\n",
      "div e-banking2.hangseng.com › p-p-payment › bill-payment-transaction-enquiry\n",
      "div Using Hang Seng e-Banking Services - P.P Payment Platform - Bill Payment ... What will be the case for using credit card account for pending payment?缺少字詞：  am | 必須包含以下字詞：am\n",
      "div Using Hang Seng e-Banking Services - P.P Payment Platform - Bill Payment ... What will be the case for using credit card account for pending payment?缺少字詞：  am | 必須包含以下字詞：am\n",
      "div Using Hang Seng e-Banking Services - P.P Payment Platform - Bill Payment ... What will be the case for using credit card account for pending payment?缺少字詞：  am | 必須包含以下字詞：am\n",
      "div Using Hang Seng e-Banking Services - P.P Payment Platform - Bill Payment ... What will be the case for using credit card account for pending payment?缺少字詞：  am | 必須包含以下字詞：am\n",
      "div Using Hang Seng e-Banking Services - P.P Payment Platform - Bill Payment ... What will be the case for using credit card account for pending payment?\n",
      "div Using Hang Seng e-Banking Services - P.P Payment Platform - Bill Payment ... What will be the case for using credit card account for pending payment?\n",
      "div 缺少字詞：  am | 必須包含以下字詞：am\n",
      "div 缺少字詞：  am | 必須包含以下字詞：am\n",
      "span am\n",
      "span am\n",
      "span am\n",
      "div Online Banking Help - HSBC HKwww.hsbc.com.hk › digital › online-banking-faqFind the answers to the most frequently asked questions about HSBC online banking and get all ... My Personal Internet Banking registration was rejected.\n",
      "div Online Banking Help - HSBC HKwww.hsbc.com.hk › digital › online-banking-faqFind the answers to the most frequently asked questions about HSBC online banking and get all ... My Personal Internet Banking registration was rejected.\n",
      "div Online Banking Help - HSBC HKwww.hsbc.com.hk › digital › online-banking-faq\n",
      "div Online Banking Help - HSBC HKwww.hsbc.com.hk › digital › online-banking-faq\n",
      "div Online Banking Help - HSBC HK\n",
      "div Online Banking Help - HSBC HK\n",
      "div www.hsbc.com.hk › digital › online-banking-faq\n",
      "div www.hsbc.com.hk › digital › online-banking-faq\n",
      "div Find the answers to the most frequently asked questions about HSBC online banking and get all ... My Personal Internet Banking registration was rejected.\n",
      "div Find the answers to the most frequently asked questions about HSBC online banking and get all ... My Personal Internet Banking registration was rejected.\n",
      "div Find the answers to the most frequently asked questions about HSBC online banking and get all ... My Personal Internet Banking registration was rejected.\n",
      "div Find the answers to the most frequently asked questions about HSBC online banking and get all ... My Personal Internet Banking registration was rejected.\n",
      "div Find the answers to the most frequently asked questions about HSBC online banking and get all ... My Personal Internet Banking registration was rejected.\n",
      "div Find the answers to the most frequently asked questions about HSBC online banking and get all ... My Personal Internet Banking registration was rejected.\n",
      "div 相關搜尋Hang Seng BankHang Seng Bank Credit CardHang Seng ATM Cardhang seng bank credit card優惠Hang Seng Bank hr Contacthang seng信用卡熱線Hang Seng bank cs hotlineHSBC ATM Card\n",
      "div 相關搜尋Hang Seng BankHang Seng Bank Credit CardHang Seng ATM Cardhang seng bank credit card優惠Hang Seng Bank hr Contacthang seng信用卡熱線Hang Seng bank cs hotlineHSBC ATM Card\n",
      "div 相關搜尋\n",
      "div 相關搜尋\n",
      "span 相關搜尋\n",
      "div 相關搜尋\n",
      "div \n",
      "div Hang Seng Bank\n",
      "div Hang Seng Bank\n",
      "span \n",
      "div Hang Seng Bank\n",
      "span Hang Seng Bank\n",
      "div Hang Seng Bank\n",
      "div \n",
      "div Hang Seng Bank Credit Card\n",
      "div Hang Seng Bank Credit Card\n",
      "span \n",
      "div Hang Seng Bank Credit Card\n",
      "span Hang Seng Bank Credit Card\n",
      "div Hang Seng Bank Credit Card\n",
      "div \n",
      "div Hang Seng ATM Card\n",
      "div Hang Seng ATM Card\n",
      "span \n",
      "div Hang Seng ATM Card\n",
      "span Hang Seng ATM Card\n",
      "div Hang Seng ATM Card\n",
      "div \n",
      "div hang seng bank credit card優惠\n",
      "div hang seng bank credit card優惠\n",
      "span \n",
      "div hang seng bank credit card優惠\n",
      "span hang seng bank credit card優惠\n",
      "div hang seng bank credit card優惠\n",
      "div \n",
      "div Hang Seng Bank hr Contact\n",
      "div Hang Seng Bank hr Contact\n",
      "span \n",
      "div Hang Seng Bank hr Contact\n",
      "span Hang Seng Bank hr Contact\n",
      "div Hang Seng Bank hr Contact\n",
      "div \n",
      "div hang seng信用卡熱線\n",
      "div hang seng信用卡熱線\n",
      "span \n",
      "div hang seng信用卡熱線\n",
      "span hang seng信用卡熱線\n",
      "div hang seng信用卡熱線\n",
      "div \n",
      "div Hang Seng bank cs hotline\n",
      "div Hang Seng bank cs hotline\n",
      "span \n",
      "div Hang Seng bank cs hotline\n",
      "span Hang Seng bank cs hotline\n",
      "div Hang Seng bank cs hotline\n",
      "div \n",
      "div HSBC ATM Card\n",
      "div HSBC ATM Card\n",
      "span \n",
      "div HSBC ATM Card\n",
      "span HSBC ATM Card\n",
      "div HSBC ATM Card\n",
      "div 下一頁 >\n",
      "div 下一頁 >\n",
      "div 下一頁 >\n",
      "div 沙田區根據你的 IP 位址 - 瞭解詳情登入設定私隱權政策條款\n",
      "div 沙田區根據你的 IP 位址 - 瞭解詳情\n",
      "div 沙田區\n",
      "span \n",
      "span 沙田區\n",
      "span 根據你的 IP 位址\n",
      "span -\n",
      "div 登入\n",
      "div 設定私隱權政策條款\n"
     ]
    }
   ],
   "source": [
    "'''\n",
    "cnn\n",
    "'''\n",
    "from bs4 import BeautifulSoup as BS\n",
    "import requests as req\n",
    "  \n",
    "url = \"https://www.google.com/search?q=hengseng+bank+I+am+still+waiting+on+my+card%3F&rlz=1C1BNSD_enHK1014HK1014&sxsrf=ALiCzsb65F8MlAWk-Wu3Dfk6de9uygTm7A%3A1670829221679&ei=pdSWY4GFKcum-QbnkKLgBg&ved=0ahUKEwjB6_Pxw_P7AhVLU94KHWeICGwQ4dUDCA8&uact=5&oq=hengseng+bank+I+am+still+waiting+on+my+card%3F&gs_lcp=Cgxnd3Mtd2l6LXNlcnAQAzIHCCEQoAEQCjIHCCEQoAEQCjIHCCEQoAEQCjIHCCEQoAEQCjIHCCEQoAEQCjoKCAAQRxDWBBCwA0oECEEYAEoECEYYAFDdEFjdEGDsH2gCcAF4AIABbogBbpIBAzAuMZgBAKABAqABAcgBCsABAQ&sclient=gws-wiz-serp\"\n",
    "  \n",
    "webpage = req.get(url)  # YOU CAN EVEN DIRECTLY PASTE THE URL IN THIS\n",
    "# HERE HTML PARSER IS ACTUALLY THE WHOLE HTML PAGE\n",
    "trav = BS(webpage.content, \"html.parser\")\n",
    "  \n",
    "# TO GET THE TPYE OF CLASS\n",
    "# HERE 'a' STANDS FOR ANCHOR TAG IN WHICH NEWS IS STORED\n",
    "for link in trav.find_all(['span', 'div']):\n",
    "    # print(type(link.string), \" \", link.string)\n",
    "    print(link.name + ' ' + link.text.strip())\n",
    "\n",
    "for link in trav.find_all(\"div\", attrs={'class': 'Wt5Tfe', }):\n",
    "    # print(type(link.string), \" \", link.string)\n",
    "    print(link.name + ' ' + link.text.strip())\n",
    "\n",
    "for link in trav.find_all(\"span\", attrs={'class': 'CSkcDe'}):\n",
    "    # print(type(link.string), \" \", link.string)\n",
    "    print(link.name + ' ' + link.text.strip())\n",
    "\n",
    "for link in trav.find_all(\"div\", attrs={'class': 'kfsfbe adDDi'}):\n",
    "    # print(type(link.string), \" \", link.string)\n",
    "    print(link.name + ' ' + link.text.strip())"
   ]
  },
  {
   "cell_type": "code",
   "execution_count": 141,
   "metadata": {},
   "outputs": [
    {
     "name": "stdout",
     "output_type": "stream",
     "text": [
      "[]\n"
     ]
    }
   ],
   "source": [
    "import urllib\n",
    "import requests\n",
    "from bs4 import BeautifulSoup  # 第三方包，处理html对象\n",
    "import re\n",
    "\n",
    "\n",
    "def search_google(query):\n",
    "    # 爬取网页html源码\n",
    "    url = 'https://google.com/search?q=' + urllib.parse.quote(query)\n",
    "    headers = {'User-Agent': 'Mozilla/5.0 (Windows NT 10.0; Win64; x64) AppleWebKit/537.36 (KHTML, like Gecko) Chrome/107.0.0.0 Safari/537.36'}\n",
    "    response = requests.get(url, headers=headers)\n",
    "\n",
    "    # 使用BeautifulSoup解析html对象，并使用正则表达式查找目标内容\n",
    "    results = []\n",
    "    soup = BeautifulSoup(response.text, 'html.parser')\n",
    "    for item in soup.find_all(\"span\", attrs={'class': 'CSkcDe'}):\n",
    "        results.append(item.text)\n",
    "        # string = str(item.string)\n",
    "        # res = re.findall(r'(?P<name>.+?) - (?P<work>.+?) - (?P<company>SES Satellites) \\| LinkedIn', string, flags=re.I | re.S)\n",
    "        # if len(res) > 0:\n",
    "        #     results.extend(res)\n",
    "    return results\n",
    "\n",
    "\n",
    "if __name__ == '__main__':\n",
    "    results = search_google(query='hengseng bank I am still waiting on my card?')\n",
    "    print(results)\n"
   ]
  },
  {
   "cell_type": "markdown",
   "metadata": {},
   "source": [
    "# Discuss.com.hk\n",
    "\n",
    "https://www.discuss.com.hk/\n",
    "\n",
    "https://forum.hkgolden.com/"
   ]
  },
  {
   "cell_type": "markdown",
   "metadata": {},
   "source": [
    "scrape url list in discuss.com.hk"
   ]
  },
  {
   "cell_type": "code",
   "execution_count": 176,
   "metadata": {},
   "outputs": [],
   "source": [
    "from bs4 import BeautifulSoup\n",
    "import requests\n",
    "import re\n",
    "\n",
    "\n",
    "# function to extract html document from given url\n",
    "def getHTMLdocument(url):\n",
    "\t\n",
    "\t# request for HTML document of given url\n",
    "\tresponse = requests.get(url)\n",
    "\t\n",
    "\t# response will be provided in JSON format\n",
    "\treturn response.text\n",
    "\n",
    "\t\n",
    "# assign required credentials\n",
    "# assign URL\n",
    "# link list\n",
    "'''\n",
    "# query = 中国银行 + 信用卡\n",
    "'''\n",
    "def get_url_list(query, page_num):\n",
    "\thref_list = []\n",
    "\t# for i in range(1,2):\n",
    "\turl_to_scrape = \"https://www.discuss.com.hk/search.php?orderby=most_relevant&searchsubmit=yes&srcheng=1&srchtxt=\" + '{}'.format(query) +'&page={}'.format(page_num)\n",
    "\n",
    "\t# create document\n",
    "\thtml_document = getHTMLdocument(url_to_scrape)\n",
    "\n",
    "\t# create soap object\n",
    "\tsoup = BeautifulSoup(html_document, 'html.parser')\n",
    "\n",
    "\n",
    "\t# find all the anchor tags with \"href\"\n",
    "\t# attribute starting with \"https://\"\n",
    "\tfor link in soup.find_all('a', attrs={'href': re.compile(\"^https://www.discuss.com.hk\" and \"feedback\")}):\n",
    "\t\t# display the actual urls\n",
    "\t\t\thref_list.append(link.get('href'))\n",
    "\t\t\t# print(link.get('href'))\n",
    "\n",
    "\thref_list = list(set(href_list))\n",
    "\t\n",
    "\treturn href_list"
   ]
  },
  {
   "cell_type": "code",
   "execution_count": 161,
   "metadata": {},
   "outputs": [
    {
     "data": {
      "text/plain": [
       "18"
      ]
     },
     "execution_count": 161,
     "metadata": {},
     "output_type": "execute_result"
    }
   ],
   "source": [
    "href_list = []\n",
    "url_to_scrape = get_url_list('中国银行')\n",
    "\n",
    "# create document\n",
    "html_document = getHTMLdocument(url_to_scrape)\n",
    "\n",
    "# create soap object\n",
    "soup = BeautifulSoup(html_document, 'html.parser')\n",
    "\n",
    "\n",
    "# find all the anchor tags with \"href\"\n",
    "# attribute starting with \"https://\"\n",
    "for link in soup.find_all('a', attrs={'href': re.compile(\"^https://www.discuss.com.hk\" and \"feedback\")}):\n",
    "    # display the actual urls\n",
    "        href_list.append(link.get('href'))\n",
    "        # print(link.get('href'))\n",
    "\n",
    "href_list = list(set(href_list))"
   ]
  },
  {
   "cell_type": "markdown",
   "metadata": {},
   "source": [
    "scrape post in url"
   ]
  },
  {
   "cell_type": "code",
   "execution_count": 173,
   "metadata": {},
   "outputs": [],
   "source": [
    "def get_post(url_list):\n",
    "    post = []\n",
    "    for url in url_list:    \n",
    "        post_dict = {}\n",
    "        webpage = req.get(url)  # YOU CAN EVEN DIRECTLY PASTE THE URL IN THIS\n",
    "        # HERE HTML PARSER IS ACTUALLY THE WHOLE HTML PAGE\n",
    "        trav = BS(webpage.content, \"html.parser\")\n",
    "\n",
    "  \n",
    "        # TO GET THE TPYE OF CLASS\n",
    "        # HERE 'a' STANDS FOR ANCHOR TAG IN WHICH NEWS IS STORED\n",
    "        count = 0\n",
    "        for link in trav.find_all('span', attrs={'id': re.compile('^postorig')}):\n",
    "            # print(type(link.string), \" \", link.string)\n",
    "            count+=1\n",
    "            post_dict[count] = link.text.strip()\n",
    "            # print(link.text.strip())\n",
    "        post.append(post_dict)\n",
    "    return post"
   ]
  },
  {
   "cell_type": "markdown",
   "metadata": {},
   "source": [
    "turn to dataframe\n",
    "\n",
    "|query|title|section|author|feedback|time|"
   ]
  },
  {
   "cell_type": "code",
   "execution_count": 183,
   "metadata": {},
   "outputs": [],
   "source": [
    "import time\n",
    "def post_df(query,max_page):\n",
    "    df_all = pd.DataFrame(None)\n",
    "    url_list, post = [],[]\n",
    "    for i in range(1,max_page):\n",
    "        url_list = get_url_list(query, i)\n",
    "        post = get_post(url_list)\n",
    "        time.sleep(0.001)\n",
    "        df_1 = pd.DataFrame({'url': url_list, 'post':post})\n",
    "        df_all = pd.concat([df_all, df_1])\n",
    "    return df_all\n"
   ]
  },
  {
   "cell_type": "code",
   "execution_count": 184,
   "metadata": {},
   "outputs": [
    {
     "data": {
      "text/html": [
       "<div>\n",
       "<style scoped>\n",
       "    .dataframe tbody tr th:only-of-type {\n",
       "        vertical-align: middle;\n",
       "    }\n",
       "\n",
       "    .dataframe tbody tr th {\n",
       "        vertical-align: top;\n",
       "    }\n",
       "\n",
       "    .dataframe thead th {\n",
       "        text-align: right;\n",
       "    }\n",
       "</style>\n",
       "<table border=\"1\" class=\"dataframe\">\n",
       "  <thead>\n",
       "    <tr style=\"text-align: right;\">\n",
       "      <th></th>\n",
       "      <th>url</th>\n",
       "      <th>post</th>\n",
       "    </tr>\n",
       "  </thead>\n",
       "  <tbody>\n",
       "    <tr>\n",
       "      <th>0</th>\n",
       "      <td>https://www.discuss.com.hk/viewthread.php?tid=...</td>\n",
       "      <td>{1: '中國銀行幾時派息', 2: 'seem is 20/7', 3: 'THX', 4...</td>\n",
       "    </tr>\n",
       "    <tr>\n",
       "      <th>1</th>\n",
       "      <td>https://www.discuss.com.hk/viewthread.php?tid=...</td>\n",
       "      <td>{1: '3988 中國銀行 入得未?', 2: '你夠膽就得', 3: '等$1.8先買都...</td>\n",
       "    </tr>\n",
       "    <tr>\n",
       "      <th>2</th>\n",
       "      <td>https://www.discuss.com.hk/viewthread.php?tid=...</td>\n",
       "      <td>{1: 'BACHY  -7.206%\r\n",
       "中國銀行3988在美國的預託證券大跌7.2%，\r\n",
       "...</td>\n",
       "    </tr>\n",
       "    <tr>\n",
       "      <th>3</th>\n",
       "      <td>https://www.discuss.com.hk/viewthread.php?tid=...</td>\n",
       "      <td>{1: '中國銀行(中國) 和中國銀行(香港) 係咪互通?\r\n",
       "若中國銀行(中國) AC 有問...</td>\n",
       "    </tr>\n",
       "    <tr>\n",
       "      <th>4</th>\n",
       "      <td>https://www.discuss.com.hk/viewthread.php?tid=...</td>\n",
       "      <td>{1: '點解中銀香港 2388 十幾倍 pe， 4%息，\r\n",
       "但係中國銀行 3988 3倍p...</td>\n",
       "    </tr>\n",
       "    <tr>\n",
       "      <th>...</th>\n",
       "      <td>...</td>\n",
       "      <td>...</td>\n",
       "    </tr>\n",
       "    <tr>\n",
       "      <th>13</th>\n",
       "      <td>https://www.discuss.com.hk/viewthread.php?tid=...</td>\n",
       "      <td>{1: '摩通增持中國銀行（０３９８８）６１９９萬股，每股４﹒２５元\n",
       "\r\n",
       "　　《經濟通通訊社...</td>\n",
       "    </tr>\n",
       "    <tr>\n",
       "      <th>14</th>\n",
       "      <td>https://www.discuss.com.hk/viewthread.php?tid=...</td>\n",
       "      <td>{1: '點解每晚約8點就唔存唔到港幣現金！！幾個區都係咁！！！', 2: '引用:原帖由 ...</td>\n",
       "    </tr>\n",
       "    <tr>\n",
       "      <th>15</th>\n",
       "      <td>https://www.discuss.com.hk/redirect.php?goto=f...</td>\n",
       "      <td>{1: '騰訊585元可買。', 2: '已在585.5元買入騰訊\n",
       "\n",
       "   16055978...</td>\n",
       "    </tr>\n",
       "    <tr>\n",
       "      <th>16</th>\n",
       "      <td>https://www.discuss.com.hk/viewthread.php?tid=...</td>\n",
       "      <td>{1: '中國經濟網北京1月12日訊(王紅娟)國泰君安證券公司(Guotai Junan S...</td>\n",
       "    </tr>\n",
       "    <tr>\n",
       "      <th>17</th>\n",
       "      <td>https://www.discuss.com.hk/viewthread.php?tid=...</td>\n",
       "      <td>{1: '花旗將中國銀行(3988.HK)目標價由2.90港元提升至\r\n",
       "3.70港元﹐此前將...</td>\n",
       "    </tr>\n",
       "  </tbody>\n",
       "</table>\n",
       "<p>834 rows × 2 columns</p>\n",
       "</div>"
      ],
      "text/plain": [
       "                                                  url  \\\n",
       "0   https://www.discuss.com.hk/viewthread.php?tid=...   \n",
       "1   https://www.discuss.com.hk/viewthread.php?tid=...   \n",
       "2   https://www.discuss.com.hk/viewthread.php?tid=...   \n",
       "3   https://www.discuss.com.hk/viewthread.php?tid=...   \n",
       "4   https://www.discuss.com.hk/viewthread.php?tid=...   \n",
       "..                                                ...   \n",
       "13  https://www.discuss.com.hk/viewthread.php?tid=...   \n",
       "14  https://www.discuss.com.hk/viewthread.php?tid=...   \n",
       "15  https://www.discuss.com.hk/redirect.php?goto=f...   \n",
       "16  https://www.discuss.com.hk/viewthread.php?tid=...   \n",
       "17  https://www.discuss.com.hk/viewthread.php?tid=...   \n",
       "\n",
       "                                                 post  \n",
       "0   {1: '中國銀行幾時派息', 2: 'seem is 20/7', 3: 'THX', 4...  \n",
       "1   {1: '3988 中國銀行 入得未?', 2: '你夠膽就得', 3: '等$1.8先買都...  \n",
       "2   {1: 'BACHY  -7.206%\n",
       "中國銀行3988在美國的預託證券大跌7.2%，\n",
       "...  \n",
       "3   {1: '中國銀行(中國) 和中國銀行(香港) 係咪互通?\n",
       "若中國銀行(中國) AC 有問...  \n",
       "4   {1: '點解中銀香港 2388 十幾倍 pe， 4%息，\n",
       "但係中國銀行 3988 3倍p...  \n",
       "..                                                ...  \n",
       "13  {1: '摩通增持中國銀行（０３９８８）６１９９萬股，每股４﹒２５元\n",
       "\n",
       "　　《經濟通通訊社...  \n",
       "14  {1: '點解每晚約8點就唔存唔到港幣現金！！幾個區都係咁！！！', 2: '引用:原帖由 ...  \n",
       "15  {1: '騰訊585元可買。', 2: '已在585.5元買入騰訊\n",
       "\n",
       "   16055978...  \n",
       "16  {1: '中國經濟網北京1月12日訊(王紅娟)國泰君安證券公司(Guotai Junan S...  \n",
       "17  {1: '花旗將中國銀行(3988.HK)目標價由2.90港元提升至\n",
       "3.70港元﹐此前將...  \n",
       "\n",
       "[834 rows x 2 columns]"
      ]
     },
     "execution_count": 184,
     "metadata": {},
     "output_type": "execute_result"
    }
   ],
   "source": [
    "hk_chinabank = post_df('中国银行', 50)\n",
    "hk_chinabank"
   ]
  },
  {
   "cell_type": "code",
   "execution_count": 186,
   "metadata": {},
   "outputs": [
    {
     "data": {
      "text/html": [
       "<div>\n",
       "<style scoped>\n",
       "    .dataframe tbody tr th:only-of-type {\n",
       "        vertical-align: middle;\n",
       "    }\n",
       "\n",
       "    .dataframe tbody tr th {\n",
       "        vertical-align: top;\n",
       "    }\n",
       "\n",
       "    .dataframe thead th {\n",
       "        text-align: right;\n",
       "    }\n",
       "</style>\n",
       "<table border=\"1\" class=\"dataframe\">\n",
       "  <thead>\n",
       "    <tr style=\"text-align: right;\">\n",
       "      <th></th>\n",
       "      <th>url</th>\n",
       "      <th>post</th>\n",
       "    </tr>\n",
       "  </thead>\n",
       "  <tbody>\n",
       "    <tr>\n",
       "      <th>0</th>\n",
       "      <td>https://www.discuss.com.hk/viewthread.php?tid=...</td>\n",
       "      <td>{1: '恒生銀行買得過？\r\n",
       "前景如何？\r\n",
       "幾錢先入好？'}</td>\n",
       "    </tr>\n",
       "    <tr>\n",
       "      <th>1</th>\n",
       "      <td>https://www.discuss.com.hk/viewthread.php?tid=...</td>\n",
       "      <td>{1: '今天中午12時左右芝麻來電顯示恒生銀行致電，於是接聽。對方是男人，話有一筆優惠貸款...</td>\n",
       "    </tr>\n",
       "    <tr>\n",
       "      <th>2</th>\n",
       "      <td>https://www.discuss.com.hk/viewthread.php?tid=...</td>\n",
       "      <td>{1: '恆生銀行可唔可以過數去南洋商業銀行?', 2: 'Need to fill in ...</td>\n",
       "    </tr>\n",
       "    <tr>\n",
       "      <th>3</th>\n",
       "      <td>https://www.discuss.com.hk/redirect.php?goto=f...</td>\n",
       "      <td>{1: '引用:原帖由 胡三刀 於 2022-12-13 14:03 發表 \n",
       "今晚美國CPI...</td>\n",
       "    </tr>\n",
       "    <tr>\n",
       "      <th>4</th>\n",
       "      <td>https://www.discuss.com.hk/viewthread.php?tid=...</td>\n",
       "      <td>{1: '恆生銀行仲入唔入得過 ?', 2: 'all in', 3: '引用:原帖由 la...</td>\n",
       "    </tr>\n",
       "    <tr>\n",
       "      <th>...</th>\n",
       "      <td>...</td>\n",
       "      <td>...</td>\n",
       "    </tr>\n",
       "    <tr>\n",
       "      <th>14</th>\n",
       "      <td>https://www.discuss.com.hk/redirect.php?goto=f...</td>\n",
       "      <td>{1: 'https://goo.gl/maps/6AycVxWNoM52\n",
       "\r\n",
       "上去揸goo...</td>\n",
       "    </tr>\n",
       "    <tr>\n",
       "      <th>15</th>\n",
       "      <td>https://www.discuss.com.hk/redirect.php?goto=f...</td>\n",
       "      <td>{1: '引用:原帖由 家中少白襪 於 2022-6-18 18:47 發表 \n",
       "\r\n",
       "你講d，...</td>\n",
       "    </tr>\n",
       "    <tr>\n",
       "      <th>16</th>\n",
       "      <td>https://www.discuss.com.hk/redirect.php?goto=f...</td>\n",
       "      <td>{1: '引用:原帖由 Kira|Yamato 於 2017-3-29 09:00 PM 發...</td>\n",
       "    </tr>\n",
       "    <tr>\n",
       "      <th>17</th>\n",
       "      <td>https://www.discuss.com.hk/redirect.php?goto=f...</td>\n",
       "      <td>{1: '引用:原帖由 美國狗犯民亂港 於 2017-6-6 06:01 PM 發表 \n",
       "\n",
       "\n",
       "...</td>\n",
       "    </tr>\n",
       "    <tr>\n",
       "      <th>18</th>\n",
       "      <td>https://www.discuss.com.hk/viewthread.php?tid=...</td>\n",
       "      <td>{1: '但點解我投訴恆生銀行冇利是封一事，佢地當我透明？！', 2: '好火！', 3: ...</td>\n",
       "    </tr>\n",
       "  </tbody>\n",
       "</table>\n",
       "<p>816 rows × 2 columns</p>\n",
       "</div>"
      ],
      "text/plain": [
       "                                                  url  \\\n",
       "0   https://www.discuss.com.hk/viewthread.php?tid=...   \n",
       "1   https://www.discuss.com.hk/viewthread.php?tid=...   \n",
       "2   https://www.discuss.com.hk/viewthread.php?tid=...   \n",
       "3   https://www.discuss.com.hk/redirect.php?goto=f...   \n",
       "4   https://www.discuss.com.hk/viewthread.php?tid=...   \n",
       "..                                                ...   \n",
       "14  https://www.discuss.com.hk/redirect.php?goto=f...   \n",
       "15  https://www.discuss.com.hk/redirect.php?goto=f...   \n",
       "16  https://www.discuss.com.hk/redirect.php?goto=f...   \n",
       "17  https://www.discuss.com.hk/redirect.php?goto=f...   \n",
       "18  https://www.discuss.com.hk/viewthread.php?tid=...   \n",
       "\n",
       "                                                 post  \n",
       "0                      {1: '恒生銀行買得過？\n",
       "前景如何？\n",
       "幾錢先入好？'}  \n",
       "1   {1: '今天中午12時左右芝麻來電顯示恒生銀行致電，於是接聽。對方是男人，話有一筆優惠貸款...  \n",
       "2   {1: '恆生銀行可唔可以過數去南洋商業銀行?', 2: 'Need to fill in ...  \n",
       "3   {1: '引用:原帖由 胡三刀 於 2022-12-13 14:03 發表 \n",
       "今晚美國CPI...  \n",
       "4   {1: '恆生銀行仲入唔入得過 ?', 2: 'all in', 3: '引用:原帖由 la...  \n",
       "..                                                ...  \n",
       "14  {1: 'https://goo.gl/maps/6AycVxWNoM52\n",
       "\n",
       "上去揸goo...  \n",
       "15  {1: '引用:原帖由 家中少白襪 於 2022-6-18 18:47 發表 \n",
       "\n",
       "你講d，...  \n",
       "16  {1: '引用:原帖由 Kira|Yamato 於 2017-3-29 09:00 PM 發...  \n",
       "17  {1: '引用:原帖由 美國狗犯民亂港 於 2017-6-6 06:01 PM 發表 \n",
       "\n",
       "\n",
       "...  \n",
       "18  {1: '但點解我投訴恆生銀行冇利是封一事，佢地當我透明？！', 2: '好火！', 3: ...  \n",
       "\n",
       "[816 rows x 2 columns]"
      ]
     },
     "execution_count": 186,
     "metadata": {},
     "output_type": "execute_result"
    }
   ],
   "source": [
    "hk_hengsengbank = post_df('恒生银行', 50)\n",
    "hk_hengsengbank"
   ]
  },
  {
   "cell_type": "code",
   "execution_count": 230,
   "metadata": {},
   "outputs": [],
   "source": [
    "hk_hengsengbank.to_csv('hk_hengsengbank.csv')"
   ]
  },
  {
   "cell_type": "code",
   "execution_count": 187,
   "metadata": {},
   "outputs": [
    {
     "data": {
      "text/html": [
       "<div>\n",
       "<style scoped>\n",
       "    .dataframe tbody tr th:only-of-type {\n",
       "        vertical-align: middle;\n",
       "    }\n",
       "\n",
       "    .dataframe tbody tr th {\n",
       "        vertical-align: top;\n",
       "    }\n",
       "\n",
       "    .dataframe thead th {\n",
       "        text-align: right;\n",
       "    }\n",
       "</style>\n",
       "<table border=\"1\" class=\"dataframe\">\n",
       "  <thead>\n",
       "    <tr style=\"text-align: right;\">\n",
       "      <th></th>\n",
       "      <th>url</th>\n",
       "      <th>post</th>\n",
       "    </tr>\n",
       "  </thead>\n",
       "  <tbody>\n",
       "    <tr>\n",
       "      <th>0</th>\n",
       "      <td>https://www.discuss.com.hk/viewthread.php?tid=...</td>\n",
       "      <td>{1: '本人在$180買了渣打，請問現在點好？\n",
       "等？還是忍痛割？', 2: '180蚊太貴...</td>\n",
       "    </tr>\n",
       "    <tr>\n",
       "      <th>1</th>\n",
       "      <td>https://www.discuss.com.hk/viewthread.php?tid=...</td>\n",
       "      <td>{1: '想問渣打依家渣得過嗎 見咁平想買手', 2: '分注買無問題'}</td>\n",
       "    </tr>\n",
       "    <tr>\n",
       "      <th>2</th>\n",
       "      <td>https://www.discuss.com.hk/viewthread.php?tid=...</td>\n",
       "      <td>{1: '用渣打買股票，如果渣打執左，怎辦?\n",
       "\r\n",
       "打好準備，呢啲時勢，乜柒都會發生....'...</td>\n",
       "    </tr>\n",
       "    <tr>\n",
       "      <th>3</th>\n",
       "      <td>https://www.discuss.com.hk/viewthread.php?tid=...</td>\n",
       "      <td>{1: '渣打乜事急升？'}</td>\n",
       "    </tr>\n",
       "    <tr>\n",
       "      <th>4</th>\n",
       "      <td>https://www.discuss.com.hk/viewthread.php?tid=...</td>\n",
       "      <td>{1: '淨收息渣打一年都派幾十萬俾我，無得輸。一兩年會升至$200渣打PB value 0...</td>\n",
       "    </tr>\n",
       "    <tr>\n",
       "      <th>...</th>\n",
       "      <td>...</td>\n",
       "      <td>...</td>\n",
       "    </tr>\n",
       "    <tr>\n",
       "      <th>13</th>\n",
       "      <td>https://www.discuss.com.hk/viewthread.php?tid=...</td>\n",
       "      <td>{1: '英脫歐風險巨，匯豐、渣打恐錄巨額英鎊損失', 2: 'Good news', 3:...</td>\n",
       "    </tr>\n",
       "    <tr>\n",
       "      <th>14</th>\n",
       "      <td>https://www.discuss.com.hk/viewthread.php?tid=...</td>\n",
       "      <td>{1: '渣打去年多賺17%至32.98億美元\r\n",
       "【16:34】2009年03月03日 \r\n",
       "...</td>\n",
       "    </tr>\n",
       "    <tr>\n",
       "      <th>15</th>\n",
       "      <td>https://www.discuss.com.hk/viewthread.php?tid=...</td>\n",
       "      <td>{1: '消息指渣打集團(02888)本周開始在香港等地裁員。外電引述消息人士指，渣打擬削減...</td>\n",
       "    </tr>\n",
       "    <tr>\n",
       "      <th>16</th>\n",
       "      <td>https://www.discuss.com.hk/viewthread.php?tid=...</td>\n",
       "      <td>{1: '渣打倫敦股價升4% 較本港收市價高逾3%\r\n",
       "2013-03-05 16:54:40...</td>\n",
       "    </tr>\n",
       "    <tr>\n",
       "      <th>17</th>\n",
       "      <td>https://www.discuss.com.hk/viewthread.php?tid=...</td>\n",
       "      <td>{1: '有無師兄師姐\n",
       "知係渣打e-banking過左數過中銀香港ac...要幾耐先收到？\n",
       "...</td>\n",
       "    </tr>\n",
       "  </tbody>\n",
       "</table>\n",
       "<p>852 rows × 2 columns</p>\n",
       "</div>"
      ],
      "text/plain": [
       "                                                  url  \\\n",
       "0   https://www.discuss.com.hk/viewthread.php?tid=...   \n",
       "1   https://www.discuss.com.hk/viewthread.php?tid=...   \n",
       "2   https://www.discuss.com.hk/viewthread.php?tid=...   \n",
       "3   https://www.discuss.com.hk/viewthread.php?tid=...   \n",
       "4   https://www.discuss.com.hk/viewthread.php?tid=...   \n",
       "..                                                ...   \n",
       "13  https://www.discuss.com.hk/viewthread.php?tid=...   \n",
       "14  https://www.discuss.com.hk/viewthread.php?tid=...   \n",
       "15  https://www.discuss.com.hk/viewthread.php?tid=...   \n",
       "16  https://www.discuss.com.hk/viewthread.php?tid=...   \n",
       "17  https://www.discuss.com.hk/viewthread.php?tid=...   \n",
       "\n",
       "                                                 post  \n",
       "0   {1: '本人在$180買了渣打，請問現在點好？\n",
       "等？還是忍痛割？', 2: '180蚊太貴...  \n",
       "1               {1: '想問渣打依家渣得過嗎 見咁平想買手', 2: '分注買無問題'}  \n",
       "2   {1: '用渣打買股票，如果渣打執左，怎辦?\n",
       "\n",
       "打好準備，呢啲時勢，乜柒都會發生....'...  \n",
       "3                                      {1: '渣打乜事急升？'}  \n",
       "4   {1: '淨收息渣打一年都派幾十萬俾我，無得輸。一兩年會升至$200渣打PB value 0...  \n",
       "..                                                ...  \n",
       "13  {1: '英脫歐風險巨，匯豐、渣打恐錄巨額英鎊損失', 2: 'Good news', 3:...  \n",
       "14  {1: '渣打去年多賺17%至32.98億美元\n",
       "【16:34】2009年03月03日 \n",
       "...  \n",
       "15  {1: '消息指渣打集團(02888)本周開始在香港等地裁員。外電引述消息人士指，渣打擬削減...  \n",
       "16  {1: '渣打倫敦股價升4% 較本港收市價高逾3%\n",
       "2013-03-05 16:54:40...  \n",
       "17  {1: '有無師兄師姐\n",
       "知係渣打e-banking過左數過中銀香港ac...要幾耐先收到？\n",
       "...  \n",
       "\n",
       "[852 rows x 2 columns]"
      ]
     },
     "execution_count": 187,
     "metadata": {},
     "output_type": "execute_result"
    }
   ],
   "source": [
    "hk_zhadabank = post_df('渣打', 50)\n",
    "hk_zhadabank"
   ]
  },
  {
   "cell_type": "code",
   "execution_count": 206,
   "metadata": {},
   "outputs": [],
   "source": [
    "discuss_query = ['交通銀行','中信银行','建设银行', '集友银行', '創興銀行', '花旗銀行', '大新銀行', '星展銀行', '富邦銀行', '永隆銀行', '大有銀行', '大生銀行', ]\n",
    "for qu in discuss_query:\n",
    "    qu_df = post_df(qu, 50)\n",
    "    qu_df.to_csv('{}.csv'.format(qu))"
   ]
  },
  {
   "cell_type": "code",
   "execution_count": 189,
   "metadata": {},
   "outputs": [
    {
     "data": {
      "text/html": [
       "<div>\n",
       "<style scoped>\n",
       "    .dataframe tbody tr th:only-of-type {\n",
       "        vertical-align: middle;\n",
       "    }\n",
       "\n",
       "    .dataframe tbody tr th {\n",
       "        vertical-align: top;\n",
       "    }\n",
       "\n",
       "    .dataframe thead th {\n",
       "        text-align: right;\n",
       "    }\n",
       "</style>\n",
       "<table border=\"1\" class=\"dataframe\">\n",
       "  <thead>\n",
       "    <tr style=\"text-align: right;\">\n",
       "      <th></th>\n",
       "      <th>url</th>\n",
       "      <th>post</th>\n",
       "    </tr>\n",
       "  </thead>\n",
       "  <tbody>\n",
       "    <tr>\n",
       "      <th>0</th>\n",
       "      <td>https://www.discuss.com.hk/viewthread.php?tid=...</td>\n",
       "      <td>{1: '#23 東亞銀行 good news is coming ..  爆上\n",
       "\r\n",
       "wai...</td>\n",
       "    </tr>\n",
       "    <tr>\n",
       "      <th>1</th>\n",
       "      <td>https://www.discuss.com.hk/viewthread.php?tid=...</td>\n",
       "      <td>{1: '我想問各位有無試過用東亞信用卡買完野之後，打上去東亞銀行做分期（唔系借錢），系咪真...</td>\n",
       "    </tr>\n",
       "    <tr>\n",
       "      <th>2</th>\n",
       "      <td>https://www.discuss.com.hk/viewthread.php?tid=...</td>\n",
       "      <td>{1: '23東亞銀行\n",
       "\r\n",
       "摩根士丹利: 評級 減持 , 目標價 $22', 2: '23東...</td>\n",
       "    </tr>\n",
       "    <tr>\n",
       "      <th>3</th>\n",
       "      <td>https://www.discuss.com.hk/viewthread.php?tid=...</td>\n",
       "      <td>{1: '23 東亞銀行\n",
       "\n",
       "\r\n",
       "東亞銀行去年全年業績，純利６５﹒０９億元，按年下跌３０﹒３６...</td>\n",
       "    </tr>\n",
       "    <tr>\n",
       "      <th>4</th>\n",
       "      <td>https://www.discuss.com.hk/viewthread.php?tid=...</td>\n",
       "      <td>{1: '請問東亞銀行幾時公佈中期業績'}</td>\n",
       "    </tr>\n",
       "    <tr>\n",
       "      <th>...</th>\n",
       "      <td>...</td>\n",
       "      <td>...</td>\n",
       "    </tr>\n",
       "    <tr>\n",
       "      <th>13</th>\n",
       "      <td>https://www.discuss.com.hk/viewthread.php?tid=...</td>\n",
       "      <td>{1: '明報專訊】本港樓價持續上升，情況令人關注。東亞銀行(新聞 - 網站 - 圖片)（0...</td>\n",
       "    </tr>\n",
       "    <tr>\n",
       "      <th>14</th>\n",
       "      <td>https://www.discuss.com.hk/redirect.php?goto=f...</td>\n",
       "      <td>{1: '睇到報紙廣告話，可係珠海買新樓盤，香港銀行做按揭，請問有冇人操作過？', 2: '...</td>\n",
       "    </tr>\n",
       "    <tr>\n",
       "      <th>15</th>\n",
       "      <td>https://www.discuss.com.hk/viewthread.php?tid=...</td>\n",
       "      <td>{1: '尋日去排隊果d...真係on9', 2: 'any financial insti...</td>\n",
       "    </tr>\n",
       "    <tr>\n",
       "      <th>16</th>\n",
       "      <td>https://www.discuss.com.hk/redirect.php?goto=f...</td>\n",
       "      <td>{1: '港行,有無C hing 見到邊度有現貨\r\n",
       "或唔使點排既店鋪呀', 2: '上星期在...</td>\n",
       "    </tr>\n",
       "    <tr>\n",
       "      <th>17</th>\n",
       "      <td>https://www.discuss.com.hk/viewthread.php?tid=...</td>\n",
       "      <td>{1: '今日仲響觀塘開公司，死全家啦，\n",
       "包括巴士的報，東亞銀行，casetify，\n",
       "咁多地...</td>\n",
       "    </tr>\n",
       "  </tbody>\n",
       "</table>\n",
       "<p>852 rows × 2 columns</p>\n",
       "</div>"
      ],
      "text/plain": [
       "                                                  url  \\\n",
       "0   https://www.discuss.com.hk/viewthread.php?tid=...   \n",
       "1   https://www.discuss.com.hk/viewthread.php?tid=...   \n",
       "2   https://www.discuss.com.hk/viewthread.php?tid=...   \n",
       "3   https://www.discuss.com.hk/viewthread.php?tid=...   \n",
       "4   https://www.discuss.com.hk/viewthread.php?tid=...   \n",
       "..                                                ...   \n",
       "13  https://www.discuss.com.hk/viewthread.php?tid=...   \n",
       "14  https://www.discuss.com.hk/redirect.php?goto=f...   \n",
       "15  https://www.discuss.com.hk/viewthread.php?tid=...   \n",
       "16  https://www.discuss.com.hk/redirect.php?goto=f...   \n",
       "17  https://www.discuss.com.hk/viewthread.php?tid=...   \n",
       "\n",
       "                                                 post  \n",
       "0   {1: '#23 東亞銀行 good news is coming ..  爆上\n",
       "\n",
       "wai...  \n",
       "1   {1: '我想問各位有無試過用東亞信用卡買完野之後，打上去東亞銀行做分期（唔系借錢），系咪真...  \n",
       "2   {1: '23東亞銀行\n",
       "\n",
       "摩根士丹利: 評級 減持 , 目標價 $22', 2: '23東...  \n",
       "3   {1: '23 東亞銀行\n",
       "\n",
       "\n",
       "東亞銀行去年全年業績，純利６５﹒０９億元，按年下跌３０﹒３６...  \n",
       "4                               {1: '請問東亞銀行幾時公佈中期業績'}  \n",
       "..                                                ...  \n",
       "13  {1: '明報專訊】本港樓價持續上升，情況令人關注。東亞銀行(新聞 - 網站 - 圖片)（0...  \n",
       "14  {1: '睇到報紙廣告話，可係珠海買新樓盤，香港銀行做按揭，請問有冇人操作過？', 2: '...  \n",
       "15  {1: '尋日去排隊果d...真係on9', 2: 'any financial insti...  \n",
       "16  {1: '港行,有無C hing 見到邊度有現貨\n",
       "或唔使點排既店鋪呀', 2: '上星期在...  \n",
       "17  {1: '今日仲響觀塘開公司，死全家啦，\n",
       "包括巴士的報，東亞銀行，casetify，\n",
       "咁多地...  \n",
       "\n",
       "[852 rows x 2 columns]"
      ]
     },
     "execution_count": 189,
     "metadata": {},
     "output_type": "execute_result"
    }
   ],
   "source": [
    "hk_dongyabank = post_df('东亚银行', 50)\n",
    "hk_dongyabank"
   ]
  },
  {
   "cell_type": "code",
   "execution_count": 6,
   "metadata": {},
   "outputs": [
    {
     "data": {
      "text/html": [
       "<div>\n",
       "<style scoped>\n",
       "    .dataframe tbody tr th:only-of-type {\n",
       "        vertical-align: middle;\n",
       "    }\n",
       "\n",
       "    .dataframe tbody tr th {\n",
       "        vertical-align: top;\n",
       "    }\n",
       "\n",
       "    .dataframe thead th {\n",
       "        text-align: right;\n",
       "    }\n",
       "</style>\n",
       "<table border=\"1\" class=\"dataframe\">\n",
       "  <thead>\n",
       "    <tr style=\"text-align: right;\">\n",
       "      <th></th>\n",
       "      <th>Unnamed: 0</th>\n",
       "      <th>url</th>\n",
       "      <th>post</th>\n",
       "    </tr>\n",
       "  </thead>\n",
       "  <tbody>\n",
       "    <tr>\n",
       "      <th>0</th>\n",
       "      <td>0</td>\n",
       "      <td>https://www.discuss.com.hk/viewthread.php?tid=...</td>\n",
       "      <td>{1: '恒生銀行買得過？\\r\\n前景如何？\\r\\n幾錢先入好？'}</td>\n",
       "    </tr>\n",
       "    <tr>\n",
       "      <th>1</th>\n",
       "      <td>1</td>\n",
       "      <td>https://www.discuss.com.hk/viewthread.php?tid=...</td>\n",
       "      <td>{1: '今天中午12時左右芝麻來電顯示恒生銀行致電，於是接聽。對方是男人，話有一筆優惠貸款...</td>\n",
       "    </tr>\n",
       "    <tr>\n",
       "      <th>2</th>\n",
       "      <td>2</td>\n",
       "      <td>https://www.discuss.com.hk/viewthread.php?tid=...</td>\n",
       "      <td>{1: '恆生銀行可唔可以過數去南洋商業銀行?', 2: 'Need to fill in ...</td>\n",
       "    </tr>\n",
       "    <tr>\n",
       "      <th>3</th>\n",
       "      <td>3</td>\n",
       "      <td>https://www.discuss.com.hk/redirect.php?goto=f...</td>\n",
       "      <td>{1: '引用:原帖由 胡三刀 於 2022-12-13 14:03 發表 \\n今晚美國CP...</td>\n",
       "    </tr>\n",
       "    <tr>\n",
       "      <th>4</th>\n",
       "      <td>4</td>\n",
       "      <td>https://www.discuss.com.hk/viewthread.php?tid=...</td>\n",
       "      <td>{1: '恆生銀行仲入唔入得過 ?', 2: 'all in', 3: '引用:原帖由 la...</td>\n",
       "    </tr>\n",
       "    <tr>\n",
       "      <th>...</th>\n",
       "      <td>...</td>\n",
       "      <td>...</td>\n",
       "      <td>...</td>\n",
       "    </tr>\n",
       "    <tr>\n",
       "      <th>811</th>\n",
       "      <td>14</td>\n",
       "      <td>https://www.discuss.com.hk/redirect.php?goto=f...</td>\n",
       "      <td>{1: 'https://goo.gl/maps/6AycVxWNoM52\\n\\r\\n上去揸...</td>\n",
       "    </tr>\n",
       "    <tr>\n",
       "      <th>812</th>\n",
       "      <td>15</td>\n",
       "      <td>https://www.discuss.com.hk/redirect.php?goto=f...</td>\n",
       "      <td>{1: '引用:原帖由 家中少白襪 於 2022-6-18 18:47 發表 \\n\\r\\n你...</td>\n",
       "    </tr>\n",
       "    <tr>\n",
       "      <th>813</th>\n",
       "      <td>16</td>\n",
       "      <td>https://www.discuss.com.hk/redirect.php?goto=f...</td>\n",
       "      <td>{1: '引用:原帖由 Kira|Yamato 於 2017-3-29 09:00 PM 發...</td>\n",
       "    </tr>\n",
       "    <tr>\n",
       "      <th>814</th>\n",
       "      <td>17</td>\n",
       "      <td>https://www.discuss.com.hk/redirect.php?goto=f...</td>\n",
       "      <td>{1: '引用:原帖由 美國狗犯民亂港 於 2017-6-6 06:01 PM 發表 \\n\\...</td>\n",
       "    </tr>\n",
       "    <tr>\n",
       "      <th>815</th>\n",
       "      <td>18</td>\n",
       "      <td>https://www.discuss.com.hk/viewthread.php?tid=...</td>\n",
       "      <td>{1: '但點解我投訴恆生銀行冇利是封一事，佢地當我透明？！', 2: '好火！', 3: ...</td>\n",
       "    </tr>\n",
       "  </tbody>\n",
       "</table>\n",
       "<p>816 rows × 3 columns</p>\n",
       "</div>"
      ],
      "text/plain": [
       "     Unnamed: 0                                                url  \\\n",
       "0             0  https://www.discuss.com.hk/viewthread.php?tid=...   \n",
       "1             1  https://www.discuss.com.hk/viewthread.php?tid=...   \n",
       "2             2  https://www.discuss.com.hk/viewthread.php?tid=...   \n",
       "3             3  https://www.discuss.com.hk/redirect.php?goto=f...   \n",
       "4             4  https://www.discuss.com.hk/viewthread.php?tid=...   \n",
       "..          ...                                                ...   \n",
       "811          14  https://www.discuss.com.hk/redirect.php?goto=f...   \n",
       "812          15  https://www.discuss.com.hk/redirect.php?goto=f...   \n",
       "813          16  https://www.discuss.com.hk/redirect.php?goto=f...   \n",
       "814          17  https://www.discuss.com.hk/redirect.php?goto=f...   \n",
       "815          18  https://www.discuss.com.hk/viewthread.php?tid=...   \n",
       "\n",
       "                                                  post  \n",
       "0                   {1: '恒生銀行買得過？\\r\\n前景如何？\\r\\n幾錢先入好？'}  \n",
       "1    {1: '今天中午12時左右芝麻來電顯示恒生銀行致電，於是接聽。對方是男人，話有一筆優惠貸款...  \n",
       "2    {1: '恆生銀行可唔可以過數去南洋商業銀行?', 2: 'Need to fill in ...  \n",
       "3    {1: '引用:原帖由 胡三刀 於 2022-12-13 14:03 發表 \\n今晚美國CP...  \n",
       "4    {1: '恆生銀行仲入唔入得過 ?', 2: 'all in', 3: '引用:原帖由 la...  \n",
       "..                                                 ...  \n",
       "811  {1: 'https://goo.gl/maps/6AycVxWNoM52\\n\\r\\n上去揸...  \n",
       "812  {1: '引用:原帖由 家中少白襪 於 2022-6-18 18:47 發表 \\n\\r\\n你...  \n",
       "813  {1: '引用:原帖由 Kira|Yamato 於 2017-3-29 09:00 PM 發...  \n",
       "814  {1: '引用:原帖由 美國狗犯民亂港 於 2017-6-6 06:01 PM 發表 \\n\\...  \n",
       "815  {1: '但點解我投訴恆生銀行冇利是封一事，佢地當我透明？！', 2: '好火！', 3: ...  \n",
       "\n",
       "[816 rows x 3 columns]"
      ]
     },
     "execution_count": 6,
     "metadata": {},
     "output_type": "execute_result"
    }
   ],
   "source": [
    "hs = pd.read_csv('./恒生银行.csv')\n",
    "hs"
   ]
  },
  {
   "cell_type": "code",
   "execution_count": 22,
   "metadata": {},
   "outputs": [
    {
     "data": {
      "text/plain": [
       "\"{1: '但點解我投訴恆生銀行冇利是封一事，佢地當我透明？！', 2: '好火！', 3: '我地公司都無..\\\\n\\\\r\\\\n今年只係得boc..', 4: '因為無利是封同佢地的銷售手法無關！', 5: '大家都係優越理財，點解有d人有，有d人冇，一係索性大家都冇！', 6: '引用:原帖由 cftria13 於 2009-1-19 09:04 PM 發表 \\\\r\\\\n因為無利是封同佢地的銷售手法無關！  service........poor relationship with customer', 7: '引用:原帖由 ckh3111 於 2009-1-19 09:05 PM 發表 \\\\r\\\\n中銀香港死咁精...一早都貼通告話派晒... 恆生冇話派晒，係唔俾人'}\""
      ]
     },
     "execution_count": 22,
     "metadata": {},
     "output_type": "execute_result"
    }
   ],
   "source": [
    "hs.post[815]"
   ]
  },
  {
   "cell_type": "code",
   "execution_count": null,
   "metadata": {},
   "outputs": [],
   "source": [
    "hss = hs.copy()"
   ]
  },
  {
   "cell_type": "code",
   "execution_count": 42,
   "metadata": {},
   "outputs": [
    {
     "name": "stdout",
     "output_type": "stream",
     "text": [
      "0\n"
     ]
    }
   ],
   "source": [
    "a,b = 0,0\n",
    "print(a)"
   ]
  },
  {
   "cell_type": "code",
   "execution_count": 44,
   "metadata": {},
   "outputs": [],
   "source": [
    "\n",
    "'''\n",
    "Count question categories\n",
    "'''\n",
    "def count_q(df):\n",
    "    q_who = ['邊個', '谁', '哪个']\n",
    "    q_what = ['乜嘢', '做乜']\n",
    "    q_when = ['几时', '幾時', '什么时候']\n",
    "    q_where = ['哪','邊度']\n",
    "    q_why = ['點解']\n",
    "    q_how = ['點样']\n",
    "    q_doyouknow = ['識唔識', '知不知', '知不知道']\n",
    "    q_isit = ['是否','是不是','系唔系']\n",
    "    q_all = [q_who, q_what, q_when, q_where, q_why, q_how, q_doyouknow, q_isit]\n",
    "\n",
    "    count_who, count_what, count_when, count_where, count_why, count_how, count_doyouknow, count_isit = 0, 0,0,0,0,0,0,0\n",
    "    count_all = [count_who, count_what, count_when, count_where, count_why, count_how, count_doyouknow, count_isit]\n",
    "\n",
    "    cat_num = len(q_all)\n",
    "    for i in range(len(df)):\n",
    "        for q_cat in range(cat_num):\n",
    "            for q in range(len(q_all[q_cat])):\n",
    "                for qq in q:\n",
    "                    count_all[q_cat] += hs.post[i].count(qq)\n",
    "\n",
    "            \n",
    "    return q_all"
   ]
  },
  {
   "cell_type": "code",
   "execution_count": 45,
   "metadata": {},
   "outputs": [
    {
     "ename": "TypeError",
     "evalue": "object of type 'int' has no len()",
     "output_type": "error",
     "traceback": [
      "\u001b[1;31m---------------------------------------------------------------------------\u001b[0m",
      "\u001b[1;31mTypeError\u001b[0m                                 Traceback (most recent call last)",
      "\u001b[1;32md:\\Chatbot\\data_augmentation.ipynb Cell 51'\u001b[0m in \u001b[0;36m<cell line: 1>\u001b[1;34m()\u001b[0m\n\u001b[1;32m----> <a href='vscode-notebook-cell:/d%3A/Chatbot/data_augmentation.ipynb#Y121sZmlsZQ%3D%3D?line=0'>1</a>\u001b[0m test \u001b[39m=\u001b[39m  count_q(hs)\n",
      "\u001b[1;32md:\\Chatbot\\data_augmentation.ipynb Cell 50'\u001b[0m in \u001b[0;36mcount_q\u001b[1;34m(df)\u001b[0m\n\u001b[0;32m     <a href='vscode-notebook-cell:/d%3A/Chatbot/data_augmentation.ipynb#X55sZmlsZQ%3D%3D?line=17'>18</a>\u001b[0m cat_num \u001b[39m=\u001b[39m \u001b[39mlen\u001b[39m(q_all)\n\u001b[0;32m     <a href='vscode-notebook-cell:/d%3A/Chatbot/data_augmentation.ipynb#X55sZmlsZQ%3D%3D?line=18'>19</a>\u001b[0m \u001b[39mfor\u001b[39;00m i \u001b[39min\u001b[39;00m \u001b[39mrange\u001b[39m(\u001b[39mlen\u001b[39m(df)):\n\u001b[1;32m---> <a href='vscode-notebook-cell:/d%3A/Chatbot/data_augmentation.ipynb#X55sZmlsZQ%3D%3D?line=19'>20</a>\u001b[0m     \u001b[39mfor\u001b[39;00m q_cat \u001b[39min\u001b[39;00m \u001b[39mrange\u001b[39m(\u001b[39mlen\u001b[39;49m(cat_num)):\n\u001b[0;32m     <a href='vscode-notebook-cell:/d%3A/Chatbot/data_augmentation.ipynb#X55sZmlsZQ%3D%3D?line=20'>21</a>\u001b[0m         \u001b[39mfor\u001b[39;00m q \u001b[39min\u001b[39;00m \u001b[39mrange\u001b[39m(\u001b[39mlen\u001b[39m(q_all[q_cat])):\n\u001b[0;32m     <a href='vscode-notebook-cell:/d%3A/Chatbot/data_augmentation.ipynb#X55sZmlsZQ%3D%3D?line=21'>22</a>\u001b[0m             \u001b[39mfor\u001b[39;00m qq \u001b[39min\u001b[39;00m q:\n",
      "\u001b[1;31mTypeError\u001b[0m: object of type 'int' has no len()"
     ]
    }
   ],
   "source": [
    "test =  count_q(hs)"
   ]
  },
  {
   "cell_type": "code",
   "execution_count": null,
   "metadata": {},
   "outputs": [],
   "source": [
    "class clean(df):\n",
    "        '''\n",
    "        \\\\r\\\\n\n",
    "        '''\n",
    "    def clean_rn(df):\n",
    "        clean_target = ['\\\\r', '\\\\n','\\r', '\\n', '\\xa0']\n"
   ]
  },
  {
   "cell_type": "code",
   "execution_count": 4,
   "metadata": {},
   "outputs": [
    {
     "data": {
      "text/html": [
       "<div>\n",
       "<style scoped>\n",
       "    .dataframe tbody tr th:only-of-type {\n",
       "        vertical-align: middle;\n",
       "    }\n",
       "\n",
       "    .dataframe tbody tr th {\n",
       "        vertical-align: top;\n",
       "    }\n",
       "\n",
       "    .dataframe thead th {\n",
       "        text-align: right;\n",
       "    }\n",
       "</style>\n",
       "<table border=\"1\" class=\"dataframe\">\n",
       "  <thead>\n",
       "    <tr style=\"text-align: right;\">\n",
       "      <th></th>\n",
       "      <th>Unnamed: 0</th>\n",
       "      <th>url</th>\n",
       "      <th>post</th>\n",
       "    </tr>\n",
       "  </thead>\n",
       "  <tbody>\n",
       "    <tr>\n",
       "      <th>0</th>\n",
       "      <td>0</td>\n",
       "      <td>https://www.discuss.com.hk/viewthread.php?tid=...</td>\n",
       "      <td>{1: '#23 東亞銀行 good news is coming ..\\xa0\\xa0爆上...</td>\n",
       "    </tr>\n",
       "    <tr>\n",
       "      <th>1</th>\n",
       "      <td>1</td>\n",
       "      <td>https://www.discuss.com.hk/viewthread.php?tid=...</td>\n",
       "      <td>{1: '我想問各位有無試過用東亞信用卡買完野之後，打上去東亞銀行做分期（唔系借錢），系咪真...</td>\n",
       "    </tr>\n",
       "    <tr>\n",
       "      <th>2</th>\n",
       "      <td>2</td>\n",
       "      <td>https://www.discuss.com.hk/viewthread.php?tid=...</td>\n",
       "      <td>{1: '23東亞銀行\\n\\r\\n摩根士丹利:\\xa0評級\\xa0減持 ,\\xa0目標價 $...</td>\n",
       "    </tr>\n",
       "    <tr>\n",
       "      <th>3</th>\n",
       "      <td>3</td>\n",
       "      <td>https://www.discuss.com.hk/viewthread.php?tid=...</td>\n",
       "      <td>{1: '23 東亞銀行\\n\\n\\r\\n東亞銀行去年全年業績，純利６５﹒０９億元，按年下跌３...</td>\n",
       "    </tr>\n",
       "    <tr>\n",
       "      <th>4</th>\n",
       "      <td>4</td>\n",
       "      <td>https://www.discuss.com.hk/viewthread.php?tid=...</td>\n",
       "      <td>{1: '請問東亞銀行幾時公佈中期業績'}</td>\n",
       "    </tr>\n",
       "    <tr>\n",
       "      <th>...</th>\n",
       "      <td>...</td>\n",
       "      <td>...</td>\n",
       "      <td>...</td>\n",
       "    </tr>\n",
       "    <tr>\n",
       "      <th>847</th>\n",
       "      <td>13</td>\n",
       "      <td>https://www.discuss.com.hk/viewthread.php?tid=...</td>\n",
       "      <td>{1: '明報專訊】本港樓價持續上升，情況令人關注。東亞銀行(新聞 - 網站 - 圖片)（0...</td>\n",
       "    </tr>\n",
       "    <tr>\n",
       "      <th>848</th>\n",
       "      <td>14</td>\n",
       "      <td>https://www.discuss.com.hk/redirect.php?goto=f...</td>\n",
       "      <td>{1: '睇到報紙廣告話，可係珠海買新樓盤，香港銀行做按揭，請問有冇人操作過？', 2: '...</td>\n",
       "    </tr>\n",
       "    <tr>\n",
       "      <th>849</th>\n",
       "      <td>15</td>\n",
       "      <td>https://www.discuss.com.hk/viewthread.php?tid=...</td>\n",
       "      <td>{1: '尋日去排隊果d...真係on9', 2: 'any financial insti...</td>\n",
       "    </tr>\n",
       "    <tr>\n",
       "      <th>850</th>\n",
       "      <td>16</td>\n",
       "      <td>https://www.discuss.com.hk/redirect.php?goto=f...</td>\n",
       "      <td>{1: '港行,有無C hing 見到邊度有現貨\\r\\n或唔使點排既店鋪呀', 2: '上星...</td>\n",
       "    </tr>\n",
       "    <tr>\n",
       "      <th>851</th>\n",
       "      <td>17</td>\n",
       "      <td>https://www.discuss.com.hk/viewthread.php?tid=...</td>\n",
       "      <td>{1: '今日仲響觀塘開公司，死全家啦，\\n包括巴士的報，東亞銀行，casetify，\\n咁...</td>\n",
       "    </tr>\n",
       "  </tbody>\n",
       "</table>\n",
       "<p>852 rows × 3 columns</p>\n",
       "</div>"
      ],
      "text/plain": [
       "     Unnamed: 0                                                url  \\\n",
       "0             0  https://www.discuss.com.hk/viewthread.php?tid=...   \n",
       "1             1  https://www.discuss.com.hk/viewthread.php?tid=...   \n",
       "2             2  https://www.discuss.com.hk/viewthread.php?tid=...   \n",
       "3             3  https://www.discuss.com.hk/viewthread.php?tid=...   \n",
       "4             4  https://www.discuss.com.hk/viewthread.php?tid=...   \n",
       "..          ...                                                ...   \n",
       "847          13  https://www.discuss.com.hk/viewthread.php?tid=...   \n",
       "848          14  https://www.discuss.com.hk/redirect.php?goto=f...   \n",
       "849          15  https://www.discuss.com.hk/viewthread.php?tid=...   \n",
       "850          16  https://www.discuss.com.hk/redirect.php?goto=f...   \n",
       "851          17  https://www.discuss.com.hk/viewthread.php?tid=...   \n",
       "\n",
       "                                                  post  \n",
       "0    {1: '#23 東亞銀行 good news is coming ..\\xa0\\xa0爆上...  \n",
       "1    {1: '我想問各位有無試過用東亞信用卡買完野之後，打上去東亞銀行做分期（唔系借錢），系咪真...  \n",
       "2    {1: '23東亞銀行\\n\\r\\n摩根士丹利:\\xa0評級\\xa0減持 ,\\xa0目標價 $...  \n",
       "3    {1: '23 東亞銀行\\n\\n\\r\\n東亞銀行去年全年業績，純利６５﹒０９億元，按年下跌３...  \n",
       "4                                {1: '請問東亞銀行幾時公佈中期業績'}  \n",
       "..                                                 ...  \n",
       "847  {1: '明報專訊】本港樓價持續上升，情況令人關注。東亞銀行(新聞 - 網站 - 圖片)（0...  \n",
       "848  {1: '睇到報紙廣告話，可係珠海買新樓盤，香港銀行做按揭，請問有冇人操作過？', 2: '...  \n",
       "849  {1: '尋日去排隊果d...真係on9', 2: 'any financial insti...  \n",
       "850  {1: '港行,有無C hing 見到邊度有現貨\\r\\n或唔使點排既店鋪呀', 2: '上星...  \n",
       "851  {1: '今日仲響觀塘開公司，死全家啦，\\n包括巴士的報，東亞銀行，casetify，\\n咁...  \n",
       "\n",
       "[852 rows x 3 columns]"
      ]
     },
     "execution_count": 4,
     "metadata": {},
     "output_type": "execute_result"
    }
   ],
   "source": [
    "dy = pd.read_csv('./东亚银行.csv')\n",
    "dy"
   ]
  },
  {
   "cell_type": "code",
   "execution_count": 34,
   "metadata": {},
   "outputs": [
    {
     "data": {
      "text/plain": [
       "\"{1: '我想問各位有無試過用東亞信用卡買完野之後，打上去東亞銀行做分期（唔系借錢），系咪真系要等7個工作天先回覆你得唔得？', 2: '引用:原帖由 liz_hermione 於 2015-8-21 11:09 AM 發表 \\\\r\\\\n我想問各位有無試過用東亞信用卡買完野之後，打上去東亞銀行做分期（唔系借錢），系咪真系要等7個工作天先回覆你得唔得？ 直接問銀行啦 !', 3: '問左啦，距話會視乎你既信貸評級去決定做唔做到分期，我只系想問一下有無人有類似經驗'}\""
      ]
     },
     "execution_count": 34,
     "metadata": {},
     "output_type": "execute_result"
    }
   ],
   "source": [
    "dy.post[1]"
   ]
  },
  {
   "cell_type": "code",
   "execution_count": 29,
   "metadata": {},
   "outputs": [
    {
     "name": "stdout",
     "output_type": "stream",
     "text": [
      "2\n"
     ]
    }
   ],
   "source": [
    "ll = dy.post[8].split(',')\n",
    "tt = ['引用']\n",
    "if any(sub in ll for sub in tt):\n",
    "    print(1)\n",
    "else:\n",
    "    print(2)"
   ]
  },
  {
   "cell_type": "code",
   "execution_count": 30,
   "metadata": {},
   "outputs": [
    {
     "data": {
      "text/plain": [
       "[\"{1: '請問一下東亞銀行有IPO margin 申請嗎？我的渣打銀行沒有人IPO 服務的，我要換銀行了'\",\n",
       " \" 2: '東亞係咪要打電話申請㗎？ 同埋抽孖展有風險，小心'\",\n",
       " \" 3: '渣打冇ipo孖展'\",\n",
       " \" 4: 'Hang seng 唔錯'\",\n",
       " \" 5: '引用:原帖由 288328832883 於 2017-11-18 01:49 PM 發表 \\\\r\\\\n渣打冇ipo孖展 冇 ar'}\"]"
      ]
     },
     "execution_count": 30,
     "metadata": {},
     "output_type": "execute_result"
    }
   ],
   "source": [
    "ll"
   ]
  },
  {
   "cell_type": "code",
   "execution_count": 31,
   "metadata": {},
   "outputs": [
    {
     "data": {
      "text/plain": [
       "\"{1: '有冇人知在東亞銀行做it 有冇伏？好吾好', 2: '銀行版話東亞就裁員，而家佢地搵緊consultant制定精簡方案，你google下', 3: '但it 仲請人甘怪🤨', 4: '引用:原帖由 12445 於 2020-1-23 08:27 PM 發表 \\\\n但it 仲請人甘怪🤨 舊人跳船囉', 5: '東亞it伏到爆啦, n年前仲要求用自雇形式 引用:原帖由 12445 於 2020-1-23 07:40 PM 發表 \\\\r\\\\n有冇人知在東亞銀行做it 有冇伏？好吾好', 6: '有幾怪? 成日有人走咪要成日請 引用:原帖由 12445 於 2020-1-23 08:27 PM 發表 \\\\r\\\\n但it 仲請人甘怪🤨', 7: '引用:原帖由 java2 於 2020-1-23 11:14 PM 發表 \\\\r\\\\n東亞it伏到爆啦, n年前仲要求用自雇形式 \\\\n\\\\n對渣華版友又認識多咗。\\\\xa0 \\\\n\\\\n\\\\r\\\\n對東亞有什麼看法?', 8: '東亞it 好亂，鐘意執屎可以去，危中有機', 9: '其實有邊間好做?', 10: '東亞it好似要番工打咭', 11: '伏到一個點，未過probation 已經要走！大嘅鬧人就識，事事濶佬懶理。細嘅個個十幾廿年年資，死都做靚唔肯升上去。門第觀念極重，有request 嚟，唔係friend, 咪射波dum下拖下，起槓嘈下交或者叫自己老細施壓推甩咗佢算囉！每星期開會廢噏三四個鐘，講埋哂d細微細眼嘢，大嘅嘢講到決定到咩？SM 1 or Division head 話乜就乜啦，全部扮工扮經過討論啫！想騎下牛搵隻馬，咪入去做幾個月算囉！', 12: '引用:原帖由 chiuwan826 於 2020-5-18 01:32 AM 發表 \\\\n伏到一個點，未過probation 已經要走！大嘅鬧人就識，事事濶佬懶理。細嘅個個十幾廿年年資，死都做靚唔肯升上去。門第觀念極重，有request 嚟，唔係friend, 咪射波dum下拖下，起槓嘈下交或者叫自己老細施壓推甩咗佢算囉！每星期開會廢噏三四個鐘，講埋哂d細微細眼嘢，大嘅嘢講到決定到咩？SM 1 or Division head 話乜就乜啦，全部扮工扮經過討論啫！想騎下牛搵隻馬，咪入去做 ... 升職問題，好多公司都存在。你已經是員工，就算你幾掂，升你亦唔會為公司帶來明顯利益，不如用高職去外面找人來，希望帶來突破。', 13: '簡單嚟講擦鞋係最重要 如果係技術人 唔識玩 外面工夫\\\\n就唔好入去啦', 14: '一定伏到爆\\\\n\\\\n[ 本帖最後由 小貓兒 於 2022-9-21 17:33 編輯 ]', 15: '有無師兄做過 , 可以分享下'}\""
      ]
     },
     "execution_count": 31,
     "metadata": {},
     "output_type": "execute_result"
    }
   ],
   "source": [
    "# hk_dongyabank = hk_dongyabank.reset_index()\n",
    "dy.post[9]"
   ]
  },
  {
   "cell_type": "code",
   "execution_count": 32,
   "metadata": {},
   "outputs": [
    {
     "data": {
      "text/plain": [
       "\"{1: '想一問東亞銀行幾時收到利息......', 2: '引用:原帖由 townray 於 2010-4-6 10:11 PM 發表 \\\\r\\\\n想一問東亞銀行幾時收到利息...... 公布日期股票\\\\r\\\\n編號股票簡稱財政年度事項除淨或生效日期截止過戶日期派息日2010/02/1100023東亞銀行2009/12末期息４８仙，可以股代息2010/03/26[table]2010/03/30至2010/03/31[/td][td=1,1,70]2010/04/23[/td][/tr][/table]'}\""
      ]
     },
     "execution_count": 32,
     "metadata": {},
     "output_type": "execute_result"
    }
   ],
   "source": [
    "dy.post[10]"
   ]
  },
  {
   "cell_type": "code",
   "execution_count": 33,
   "metadata": {},
   "outputs": [
    {
     "data": {
      "text/plain": [
       "\"{1: '請問，東亞銀行 risk department 工作地點，在香港哪區？', 2: 'Kwun tong', 3: '創紀之城五期'}\""
      ]
     },
     "execution_count": 33,
     "metadata": {},
     "output_type": "execute_result"
    }
   ],
   "source": [
    "dy.post[11]"
   ]
  },
  {
   "cell_type": "code",
   "execution_count": 190,
   "metadata": {},
   "outputs": [],
   "source": [
    "hk_dongyabank.to_csv('hk_dongyabank.csv')"
   ]
  },
  {
   "cell_type": "code",
   "execution_count": 155,
   "metadata": {},
   "outputs": [
    {
     "name": "stdout",
     "output_type": "stream",
     "text": [
      "引用:原帖由 路仁月 於 2022-2-18 01:06 PM 發表 \n",
      "\n",
      "就係... 好似唔少人都呻過... 又要上去排隊... 放街好過  唔係貪佢個 trade 額外 $400 .\n",
      "同埋 Fold 3 銀色得官網有。\n",
      "都未必係 官網買。\n",
      "不過今次 1TB 開得高，所以放棄。\n",
      "其他顏色又唔啱。\n",
      "所以買番 512 紅 , 跟番 N20U .\n",
      "引用:原帖由 路仁月 於 2022-2-18 01:06 PM 發表 \n",
      "\n",
      "就係... 好似唔少人都呻過... 又要上去排隊... 放街好過  唔係貪佢個 trade 額外 $400 .\n",
      "同埋 Fold 3 銀色得官網有。\n",
      "都未必係 官網買。\n",
      "不過今次 1TB 開得高，所以放棄。\n",
      "其他顏色又唔啱。\n",
      "所以買番 512 紅 , 跟番 N20U .\n",
      "mobile_1.jpg (89.89 KB)2022-2-18 13:37中移送既野\n",
      "mobile_1.jpg (89.89 KB)2022-2-18 13:37中移送既野\n",
      "官網訂渣打卡有一成回贈又唔錯\n",
      "官網訂渣打卡有一成回贈又唔錯\n",
      "引用:原帖由 生果轉貼員 於 2022-2-18 01:40 PM 發表 \n",
      "官網訂渣打卡有一成回贈又唔錯 官網好遲送貨\n",
      "引用:原帖由 生果轉貼員 於 2022-2-18 01:40 PM 發表 \n",
      "官網訂渣打卡有一成回贈又唔錯 官網好遲送貨\n",
      "[按此打開]\n",
      "[隱藏]\n",
      "\n",
      "\n",
      "\n",
      "\n",
      "\n",
      "\n",
      "\n",
      "\n",
      "\n",
      "\n",
      "\n",
      "九衝左去蘇X出左 S22 256gb，$6298。恆 X 冬日特專 + 蘇X特惠，回贈 $290 cash dollar。除三星贈品外，蘇 X 送 18W 充電器、尿袋等。2/3攞機，知道未必最抵，但終於買左，訓得著。😂😂\n",
      "\n",
      "[ 本帖最後由 maskedtsang 於 2022-2-18 03:45 PM 編輯 ]\n",
      "九衝左去蘇X出左 S22 256gb，$6298。恆 X 冬日特專 + 蘇X特惠，回贈 $290 cash dollar。除三星贈品外，蘇 X 送 18W 充電器、尿袋等。2/3攞機，知道未必最抵，但終於買左，訓得著。😂😂\n",
      "\n",
      "[ 本帖最後由 maskedtsang 於 2022-2-18 03:45 PM 編輯 ]\n",
      "引用:原帖由 Mannerdm 於 2022-2-18 01:14 PM 發表 \n",
      "\n",
      "https://youtu.be/T9fGrqG7VLM S22 ultra 電池表現比較上代 S21 ultra 弱, 所以我決定 skip S22 ultra 512 綠色機了！ \n",
      "\n",
      "\n",
      "\n",
      "附件\n",
      "IMG_20220218_135348.jpg(62.39 KB)2022-2-18 13:57\n",
      "引用:原帖由 Mannerdm 於 2022-2-18 01:14 PM 發表 \n",
      "\n",
      "https://youtu.be/T9fGrqG7VLM S22 ultra 電池表現比較上代 S21 ultra 弱, 所以我決定 skip S22 ultra 512 綠色機了！\n",
      "20220218_134907_20220218135722.png (215.66 KB)2022-2-18 13:57\n",
      "20220218_134907_20220218135722.png (215.66 KB)2022-2-18 13:57\n",
      "引用:原帖由 derrickt 於 2022-2-18 01:57 PM 發表 \n",
      "\n",
      "S22 ultra 電池表現比較上代 S21 ultra 弱, 所以我決定 skip S22 ultra 512 綠色機了！ 佢呢個測試機型好似係Exynos 2200版，唔知8gen1係咪差唔多\n",
      "引用:原帖由 derrickt 於 2022-2-18 01:57 PM 發表 \n",
      "\n",
      "S22 ultra 電池表現比較上代 S21 ultra 弱, 所以我決定 skip S22 ultra 512 綠色機了！ 佢呢個測試機型好似係Exynos 2200版，唔知8gen1係咪差唔多\n",
      "https://web.three.com.hk/handsets/samsung/s22/5g-index2.html\n",
      "3台續約7折出機\n",
      "https://web.three.com.hk/handsets/samsung/s22/5g-index2.html\n",
      "3台續約7折出機\n",
      "[按此打開]\n",
      "[隱藏]\n",
      "\n",
      "\n",
      "\n",
      "\n",
      "\n",
      "\n",
      "\n",
      "\n",
      "\n",
      "\n",
      "\n",
      "引用:原帖由 derrickt 於 2022-2-18 09:45 AM 發表 \n",
      "Galaxy S22 Ultra 充電測試   25W vs 45W 火牛速度相差不遠\n",
      "\n",
      "\n",
      "https://m.eprice.com.hk/mobile/talk/4523/219506/1/ 對比d大陸機輸到……\n",
      "引用:原帖由 derrickt 於 2022-2-18 09:45 AM 發表 \n",
      "Galaxy S22 Ultra 充電測試   25W vs 45W 火牛速度相差不遠\n",
      "\n",
      "\n",
      "https://m.eprice.com.hk/mobile/talk/4523/219506/1/ 對比d大陸機輸到……\n",
      "引用:原帖由 生果轉貼員 於 2022-2-18 01:57 PM 發表 \n",
      "嘩，個邊好似花晒\n",
      "引用:原帖由 生果轉貼員 於 2022-2-18 01:57 PM 發表 \n",
      "嘩，個邊好似花晒\n",
      "引用:原帖由 cannabisbaby 於 2022-2-18 02:17 PM 發表 \n",
      "\n",
      "嘩，個邊好似花晒 冇用機套裸機唔掂一定整花！😨\n",
      "引用:原帖由 cannabisbaby 於 2022-2-18 02:17 PM 發表 \n",
      "\n",
      "嘩，個邊好似花晒 冇用機套裸機唔掂一定整花！😨\n",
      "引用:原帖由 kl041534 於 18-2-2022 14:15 發表 \n",
      "中移門市已訂s22u 256 酒紅\n",
      "舊客減$1300 仲有無跟機送嘅嘢？\n",
      "引用:原帖由 kl041534 於 18-2-2022 14:15 發表 \n",
      "中移門市已訂s22u 256 酒紅\n",
      "舊客減$1300 仲有無跟機送嘅嘢？\n",
      "引用:原帖由 ansonexpress 於 2022-2-18 02:41 PM 發表 \n",
      "\n",
      "仲有無跟機送嘅嘢？    mobile_1.jpg (89.89 KB)2022-2-18 14:46\n",
      "引用:原帖由 ansonexpress 於 2022-2-18 02:41 PM 發表 \n",
      "\n",
      "仲有無跟機送嘅嘢？    mobile_1.jpg (89.89 KB)2022-2-18 14:46\n",
      "[按此打開]\n",
      "[隱藏]\n",
      "\n",
      "\n",
      "\n",
      "\n",
      "\n",
      "\n",
      "\n",
      "\n",
      "\n",
      "\n",
      "\n",
      "引用:原帖由 天又南 於 2022-2-18 02:46 PM 發表 \n",
      "\n",
      "隻牛上年出s21u都有送，真係差得幾快幾好用，係插晒5個來差隻牛都幾熱！\n",
      "引用:原帖由 天又南 於 2022-2-18 02:46 PM 發表 \n",
      "\n",
      "隻牛上年出s21u都有送，真係差得幾快幾好用，係插晒5個來差隻牛都幾熱！\n"
     ]
    }
   ],
   "source": [
    "for link in trav.find_all('div', attrs={'class': re.compile('^postmessage')}):\n",
    "    # print(type(link.string), \" \", link.string)\n",
    "    print(link.text.strip())"
   ]
  },
  {
   "cell_type": "markdown",
   "metadata": {},
   "source": [
    "# Question words in Cantonese\n",
    "\n",
    "邊個、 谁、 哪个\n",
    "識唔識、 知不知（道）\n",
    "是否、是不是、系唔系"
   ]
  },
  {
   "cell_type": "markdown",
   "metadata": {},
   "source": []
  }
 ],
 "metadata": {
  "interpreter": {
   "hash": "8ea350ce9d48d0c7c240d227d51920e0e87e995ec68f1d559b64a262869cbd37"
  },
  "kernelspec": {
   "display_name": "Python 3.9.12 64-bit",
   "language": "python",
   "name": "python3"
  },
  "language_info": {
   "codemirror_mode": {
    "name": "ipython",
    "version": 3
   },
   "file_extension": ".py",
   "mimetype": "text/x-python",
   "name": "python",
   "nbconvert_exporter": "python",
   "pygments_lexer": "ipython3",
   "version": "3.9.12"
  },
  "orig_nbformat": 4
 },
 "nbformat": 4,
 "nbformat_minor": 2
}
